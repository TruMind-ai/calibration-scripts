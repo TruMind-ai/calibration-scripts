{
 "cells": [
  {
   "cell_type": "code",
   "execution_count": 31,
   "metadata": {},
   "outputs": [
    {
     "ename": "AttributeError",
     "evalue": "'ResourcesOperations' object has no attribute 'get_at_scope'",
     "output_type": "error",
     "traceback": [
      "\u001b[0;31m---------------------------------------------------------------------------\u001b[0m",
      "\u001b[0;31mAttributeError\u001b[0m                            Traceback (most recent call last)",
      "Cell \u001b[0;32mIn[31], line 19\u001b[0m\n\u001b[1;32m     13\u001b[0m resource \u001b[39m=\u001b[39m resource_client\u001b[39m.\u001b[39mresources\u001b[39m.\u001b[39mget_by_id(\n\u001b[1;32m     14\u001b[0m     \u001b[39mf\u001b[39m\u001b[39m\"\u001b[39m\u001b[39m/subscriptions/\u001b[39m\u001b[39m{\u001b[39;00msubscription_id\u001b[39m}\u001b[39;00m\u001b[39m/resourceGroups/\u001b[39m\u001b[39m{\u001b[39;00mresource_group_name\u001b[39m}\u001b[39;00m\u001b[39m/providers/Microsoft.Compute/virtualMachineScaleSets/\u001b[39m\u001b[39m{\u001b[39;00mscale_set_name\u001b[39m}\u001b[39;00m\u001b[39m\"\u001b[39m,\n\u001b[1;32m     15\u001b[0m     \u001b[39m\"\u001b[39m\u001b[39m2022-08-01\u001b[39m\u001b[39m\"\u001b[39m\n\u001b[1;32m     16\u001b[0m )\n\u001b[1;32m     17\u001b[0m \u001b[39m# resource_tags = resource_client.tags.get_at_scope(resource.id)\u001b[39;00m\n\u001b[1;32m     18\u001b[0m \u001b[39m# print (resource_tags.properties.tags['llm_name'])\u001b[39;00m\n\u001b[0;32m---> 19\u001b[0m resource_client\u001b[39m.\u001b[39;49mresources\u001b[39m.\u001b[39;49mget_at_scope(resource\u001b[39m.\u001b[39mid)\n",
      "\u001b[0;31mAttributeError\u001b[0m: 'ResourcesOperations' object has no attribute 'get_at_scope'"
     ]
    }
   ],
   "source": [
    "import os\n",
    "from azure.identity import AzureCliCredential\n",
    "from azure.mgmt.resource import ResourceManagementClient\n",
    "\n",
    "credential = AzureCliCredential()\n",
    "subscription_id = os.environ[\"AZURE_SUBSCRIPTION_ID\"]\n",
    "\n",
    "resource_group_name = \"Intern\"\n",
    "# storage_account_name = \"demostorage\"\n",
    "\n",
    "resource_client = ResourceManagementClient(credential, subscription_id)\n",
    "scale_set_name = 'inference-scale-set-24-1'\n",
    "resource = resource_client.resources.get_by_id(\n",
    "    f\"/subscriptions/{subscription_id}/resourceGroups/{resource_group_name}/providers/Microsoft.Compute/virtualMachineScaleSets/{scale_set_name}\",\n",
    "    \"2022-08-01\"\n",
    ")\n",
    "# resource_tags = resource_client.tags.get_at_scope(resource.id)\n",
    "# print (resource_tags.properties.tags['llm_name'])\n",
    "resource_client.resources.get_at_scope(resource.id)"
   ]
  },
  {
   "cell_type": "code",
   "execution_count": 43,
   "metadata": {},
   "outputs": [
    {
     "name": "stderr",
     "output_type": "stream",
     "text": [
      "AzureCliCredential.get_token failed: This credential requires exactly one scope per token request.\n"
     ]
    },
    {
     "ename": "ValueError",
     "evalue": "This credential requires exactly one scope per token request.",
     "output_type": "error",
     "traceback": [
      "\u001b[0;31m---------------------------------------------------------------------------\u001b[0m",
      "\u001b[0;31mValueError\u001b[0m                                Traceback (most recent call last)",
      "Cell \u001b[0;32mIn[43], line 1\u001b[0m\n\u001b[0;32m----> 1\u001b[0m credential\u001b[39m.\u001b[39;49mget_token()\n",
      "File \u001b[0;32m~/Documents/XLNC_WORK/calibration-scripts/env/lib/python3.10/site-packages/azure/identity/_internal/decorators.py:33\u001b[0m, in \u001b[0;36mlog_get_token.<locals>.decorator.<locals>.wrapper\u001b[0;34m(*args, **kwargs)\u001b[0m\n\u001b[1;32m     30\u001b[0m \u001b[39m@functools\u001b[39m\u001b[39m.\u001b[39mwraps(fn)\n\u001b[1;32m     31\u001b[0m \u001b[39mdef\u001b[39;00m \u001b[39mwrapper\u001b[39m(\u001b[39m*\u001b[39margs, \u001b[39m*\u001b[39m\u001b[39m*\u001b[39mkwargs):\n\u001b[1;32m     32\u001b[0m     \u001b[39mtry\u001b[39;00m:\n\u001b[0;32m---> 33\u001b[0m         token \u001b[39m=\u001b[39m fn(\u001b[39m*\u001b[39;49margs, \u001b[39m*\u001b[39;49m\u001b[39m*\u001b[39;49mkwargs)\n\u001b[1;32m     34\u001b[0m         _LOGGER\u001b[39m.\u001b[39mlog(\n\u001b[1;32m     35\u001b[0m             logging\u001b[39m.\u001b[39mDEBUG \u001b[39mif\u001b[39;00m within_credential_chain\u001b[39m.\u001b[39mget() \u001b[39melse\u001b[39;00m logging\u001b[39m.\u001b[39mINFO, \u001b[39m\"\u001b[39m\u001b[39m%s\u001b[39;00m\u001b[39m succeeded\u001b[39m\u001b[39m\"\u001b[39m, qualified_name\n\u001b[1;32m     36\u001b[0m         )\n\u001b[1;32m     37\u001b[0m         \u001b[39mif\u001b[39;00m _LOGGER\u001b[39m.\u001b[39misEnabledFor(logging\u001b[39m.\u001b[39mDEBUG):\n",
      "File \u001b[0;32m~/Documents/XLNC_WORK/calibration-scripts/env/lib/python3.10/site-packages/azure/identity/_credentials/azure_cli.py:98\u001b[0m, in \u001b[0;36mAzureCliCredential.get_token\u001b[0;34m(self, claims, tenant_id, *scopes, **kwargs)\u001b[0m\n\u001b[1;32m     71\u001b[0m \u001b[39m@log_get_token\u001b[39m(\u001b[39m\"\u001b[39m\u001b[39mAzureCliCredential\u001b[39m\u001b[39m\"\u001b[39m)\n\u001b[1;32m     72\u001b[0m \u001b[39mdef\u001b[39;00m \u001b[39mget_token\u001b[39m(\n\u001b[1;32m     73\u001b[0m     \u001b[39mself\u001b[39m,\n\u001b[0;32m   (...)\u001b[0m\n\u001b[1;32m     77\u001b[0m     \u001b[39m*\u001b[39m\u001b[39m*\u001b[39mkwargs: Any,\n\u001b[1;32m     78\u001b[0m ) \u001b[39m-\u001b[39m\u001b[39m>\u001b[39m AccessToken:\n\u001b[1;32m     79\u001b[0m \u001b[39m    \u001b[39m\u001b[39m\"\"\"Request an access token for `scopes`.\u001b[39;00m\n\u001b[1;32m     80\u001b[0m \n\u001b[1;32m     81\u001b[0m \u001b[39m    This method is called automatically by Azure SDK clients. Applications calling this method directly must\u001b[39;00m\n\u001b[0;32m   (...)\u001b[0m\n\u001b[1;32m     95\u001b[0m \u001b[39m      receive an access token.\u001b[39;00m\n\u001b[1;32m     96\u001b[0m \u001b[39m    \"\"\"\u001b[39;00m\n\u001b[0;32m---> 98\u001b[0m     resource \u001b[39m=\u001b[39m _scopes_to_resource(\u001b[39m*\u001b[39;49mscopes)\n\u001b[1;32m     99\u001b[0m     command \u001b[39m=\u001b[39m COMMAND_LINE\u001b[39m.\u001b[39mformat(resource)\n\u001b[1;32m    100\u001b[0m     tenant \u001b[39m=\u001b[39m resolve_tenant(\n\u001b[1;32m    101\u001b[0m         default_tenant\u001b[39m=\u001b[39m\u001b[39mself\u001b[39m\u001b[39m.\u001b[39mtenant_id,\n\u001b[1;32m    102\u001b[0m         tenant_id\u001b[39m=\u001b[39mtenant_id,\n\u001b[1;32m    103\u001b[0m         additionally_allowed_tenants\u001b[39m=\u001b[39m\u001b[39mself\u001b[39m\u001b[39m.\u001b[39m_additionally_allowed_tenants,\n\u001b[1;32m    104\u001b[0m         \u001b[39m*\u001b[39m\u001b[39m*\u001b[39mkwargs,\n\u001b[1;32m    105\u001b[0m     )\n",
      "File \u001b[0;32m~/Documents/XLNC_WORK/calibration-scripts/env/lib/python3.10/site-packages/azure/identity/_internal/__init__.py:31\u001b[0m, in \u001b[0;36m_scopes_to_resource\u001b[0;34m(*scopes)\u001b[0m\n\u001b[1;32m     22\u001b[0m \u001b[39m\u001b[39m\u001b[39m\"\"\"Convert a AADv2 scope to an AADv1 resource.\u001b[39;00m\n\u001b[1;32m     23\u001b[0m \n\u001b[1;32m     24\u001b[0m \u001b[39m:param str scopes: scope to convert\u001b[39;00m\n\u001b[0;32m   (...)\u001b[0m\n\u001b[1;32m     27\u001b[0m \u001b[39m:raises: ValueError if scopes is empty or contains more than one scope\u001b[39;00m\n\u001b[1;32m     28\u001b[0m \u001b[39m\"\"\"\u001b[39;00m\n\u001b[1;32m     30\u001b[0m \u001b[39mif\u001b[39;00m \u001b[39mlen\u001b[39m(scopes) \u001b[39m!=\u001b[39m \u001b[39m1\u001b[39m:\n\u001b[0;32m---> 31\u001b[0m     \u001b[39mraise\u001b[39;00m \u001b[39mValueError\u001b[39;00m(\u001b[39m\"\u001b[39m\u001b[39mThis credential requires exactly one scope per token request.\u001b[39m\u001b[39m\"\u001b[39m)\n\u001b[1;32m     33\u001b[0m resource \u001b[39m=\u001b[39m scopes[\u001b[39m0\u001b[39m]\n\u001b[1;32m     34\u001b[0m \u001b[39mif\u001b[39;00m resource\u001b[39m.\u001b[39mendswith(\u001b[39m\"\u001b[39m\u001b[39m/.default\u001b[39m\u001b[39m\"\u001b[39m):\n",
      "\u001b[0;31mValueError\u001b[0m: This credential requires exactly one scope per token request."
     ]
    }
   ],
   "source": [
    "credential.get_token()"
   ]
  },
  {
   "cell_type": "code",
   "execution_count": 15,
   "metadata": {},
   "outputs": [],
   "source": [
    "# list(resource_client.resources.list())\n",
    "'virtualMachineScaleSets'"
   ]
  },
  {
   "cell_type": "code",
   "execution_count": 40,
   "metadata": {},
   "outputs": [],
   "source": [
    "import os\n",
    "from azure.identity import AzureCliCredential\n",
    "from azure.mgmt.resource import ResourceManagementClient\n",
    "\n",
    "credential = AzureCliCredential()"
   ]
  },
  {
   "cell_type": "code",
   "execution_count": 39,
   "metadata": {},
   "outputs": [
    {
     "name": "stderr",
     "output_type": "stream",
     "text": [
      "AzureCliCredential.get_token failed: Please run 'az login' to set up an account\n"
     ]
    },
    {
     "ename": "CredentialUnavailableError",
     "evalue": "Please run 'az login' to set up an account",
     "output_type": "error",
     "traceback": [
      "\u001b[0;31m---------------------------------------------------------------------------\u001b[0m",
      "\u001b[0;31mCalledProcessError\u001b[0m                        Traceback (most recent call last)",
      "File \u001b[0;32m~/Documents/XLNC_WORK/calibration-scripts/env/lib/python3.10/site-packages/azure/identity/_credentials/azure_cli.py:195\u001b[0m, in \u001b[0;36m_run_command\u001b[0;34m(command, timeout)\u001b[0m\n\u001b[1;32m    188\u001b[0m     kwargs: Dict[\u001b[39mstr\u001b[39m, Any] \u001b[39m=\u001b[39m {\n\u001b[1;32m    189\u001b[0m         \u001b[39m\"\u001b[39m\u001b[39mstderr\u001b[39m\u001b[39m\"\u001b[39m: subprocess\u001b[39m.\u001b[39mPIPE,\n\u001b[1;32m    190\u001b[0m         \u001b[39m\"\u001b[39m\u001b[39mcwd\u001b[39m\u001b[39m\"\u001b[39m: working_directory,\n\u001b[0;32m   (...)\u001b[0m\n\u001b[1;32m    193\u001b[0m         \u001b[39m\"\u001b[39m\u001b[39menv\u001b[39m\u001b[39m\"\u001b[39m: \u001b[39mdict\u001b[39m(os\u001b[39m.\u001b[39menviron, AZURE_CORE_NO_COLOR\u001b[39m=\u001b[39m\u001b[39m\"\u001b[39m\u001b[39mtrue\u001b[39m\u001b[39m\"\u001b[39m),\n\u001b[1;32m    194\u001b[0m     }\n\u001b[0;32m--> 195\u001b[0m     \u001b[39mreturn\u001b[39;00m subprocess\u001b[39m.\u001b[39;49mcheck_output(args, \u001b[39m*\u001b[39;49m\u001b[39m*\u001b[39;49mkwargs)\n\u001b[1;32m    196\u001b[0m \u001b[39mexcept\u001b[39;00m subprocess\u001b[39m.\u001b[39mCalledProcessError \u001b[39mas\u001b[39;00m ex:\n\u001b[1;32m    197\u001b[0m     \u001b[39m# non-zero return from shell\u001b[39;00m\n\u001b[1;32m    198\u001b[0m     \u001b[39m# Fallback check in case the executable is not found while executing subprocess.\u001b[39;00m\n",
      "File \u001b[0;32m/Library/Frameworks/Python.framework/Versions/3.10/lib/python3.10/subprocess.py:420\u001b[0m, in \u001b[0;36mcheck_output\u001b[0;34m(timeout, *popenargs, **kwargs)\u001b[0m\n\u001b[1;32m    418\u001b[0m     kwargs[\u001b[39m'\u001b[39m\u001b[39minput\u001b[39m\u001b[39m'\u001b[39m] \u001b[39m=\u001b[39m empty\n\u001b[0;32m--> 420\u001b[0m \u001b[39mreturn\u001b[39;00m run(\u001b[39m*\u001b[39;49mpopenargs, stdout\u001b[39m=\u001b[39;49mPIPE, timeout\u001b[39m=\u001b[39;49mtimeout, check\u001b[39m=\u001b[39;49m\u001b[39mTrue\u001b[39;49;00m,\n\u001b[1;32m    421\u001b[0m            \u001b[39m*\u001b[39;49m\u001b[39m*\u001b[39;49mkwargs)\u001b[39m.\u001b[39mstdout\n",
      "File \u001b[0;32m/Library/Frameworks/Python.framework/Versions/3.10/lib/python3.10/subprocess.py:524\u001b[0m, in \u001b[0;36mrun\u001b[0;34m(input, capture_output, timeout, check, *popenargs, **kwargs)\u001b[0m\n\u001b[1;32m    523\u001b[0m     \u001b[39mif\u001b[39;00m check \u001b[39mand\u001b[39;00m retcode:\n\u001b[0;32m--> 524\u001b[0m         \u001b[39mraise\u001b[39;00m CalledProcessError(retcode, process\u001b[39m.\u001b[39margs,\n\u001b[1;32m    525\u001b[0m                                  output\u001b[39m=\u001b[39mstdout, stderr\u001b[39m=\u001b[39mstderr)\n\u001b[1;32m    526\u001b[0m \u001b[39mreturn\u001b[39;00m CompletedProcess(process\u001b[39m.\u001b[39margs, retcode, stdout, stderr)\n",
      "\u001b[0;31mCalledProcessError\u001b[0m: Command '['/bin/sh', '-c', 'az account get-access-token --output json --resource /subscriptions/36554e8b-df87-4ea0-9687-9d80a8d1dbcb/resourceGroups/Intern/providers/Microsoft.Compute/virtualMachineScaleSets/inference-scale-set-24-1']' returned non-zero exit status 1.",
      "\nThe above exception was the direct cause of the following exception:\n",
      "\u001b[0;31mCredentialUnavailableError\u001b[0m                Traceback (most recent call last)",
      "Cell \u001b[0;32mIn[39], line 1\u001b[0m\n\u001b[0;32m----> 1\u001b[0m credential\u001b[39m.\u001b[39;49mget_token(\u001b[39mf\u001b[39;49m\u001b[39m'\u001b[39;49m\u001b[39m/subscriptions/\u001b[39;49m\u001b[39m{\u001b[39;49;00msubscription_id\u001b[39m}\u001b[39;49;00m\u001b[39m/resourceGroups/\u001b[39;49m\u001b[39m{\u001b[39;49;00mresource_group_name\u001b[39m}\u001b[39;49;00m\u001b[39m/providers/Microsoft.Compute/virtualMachineScaleSets/\u001b[39;49m\u001b[39m{\u001b[39;49;00mscale_set_name\u001b[39m}\u001b[39;49;00m\u001b[39m'\u001b[39;49m)\n",
      "File \u001b[0;32m~/Documents/XLNC_WORK/calibration-scripts/env/lib/python3.10/site-packages/azure/identity/_internal/decorators.py:33\u001b[0m, in \u001b[0;36mlog_get_token.<locals>.decorator.<locals>.wrapper\u001b[0;34m(*args, **kwargs)\u001b[0m\n\u001b[1;32m     30\u001b[0m \u001b[39m@functools\u001b[39m\u001b[39m.\u001b[39mwraps(fn)\n\u001b[1;32m     31\u001b[0m \u001b[39mdef\u001b[39;00m \u001b[39mwrapper\u001b[39m(\u001b[39m*\u001b[39margs, \u001b[39m*\u001b[39m\u001b[39m*\u001b[39mkwargs):\n\u001b[1;32m     32\u001b[0m     \u001b[39mtry\u001b[39;00m:\n\u001b[0;32m---> 33\u001b[0m         token \u001b[39m=\u001b[39m fn(\u001b[39m*\u001b[39;49margs, \u001b[39m*\u001b[39;49m\u001b[39m*\u001b[39;49mkwargs)\n\u001b[1;32m     34\u001b[0m         _LOGGER\u001b[39m.\u001b[39mlog(\n\u001b[1;32m     35\u001b[0m             logging\u001b[39m.\u001b[39mDEBUG \u001b[39mif\u001b[39;00m within_credential_chain\u001b[39m.\u001b[39mget() \u001b[39melse\u001b[39;00m logging\u001b[39m.\u001b[39mINFO, \u001b[39m\"\u001b[39m\u001b[39m%s\u001b[39;00m\u001b[39m succeeded\u001b[39m\u001b[39m\"\u001b[39m, qualified_name\n\u001b[1;32m     36\u001b[0m         )\n\u001b[1;32m     37\u001b[0m         \u001b[39mif\u001b[39;00m _LOGGER\u001b[39m.\u001b[39misEnabledFor(logging\u001b[39m.\u001b[39mDEBUG):\n",
      "File \u001b[0;32m~/Documents/XLNC_WORK/calibration-scripts/env/lib/python3.10/site-packages/azure/identity/_credentials/azure_cli.py:108\u001b[0m, in \u001b[0;36mAzureCliCredential.get_token\u001b[0;34m(self, claims, tenant_id, *scopes, **kwargs)\u001b[0m\n\u001b[1;32m    106\u001b[0m \u001b[39mif\u001b[39;00m tenant:\n\u001b[1;32m    107\u001b[0m     command \u001b[39m+\u001b[39m\u001b[39m=\u001b[39m \u001b[39m\"\u001b[39m\u001b[39m --tenant \u001b[39m\u001b[39m\"\u001b[39m \u001b[39m+\u001b[39m tenant\n\u001b[0;32m--> 108\u001b[0m output \u001b[39m=\u001b[39m _run_command(command, \u001b[39mself\u001b[39;49m\u001b[39m.\u001b[39;49m_process_timeout)\n\u001b[1;32m    110\u001b[0m token \u001b[39m=\u001b[39m parse_token(output)\n\u001b[1;32m    111\u001b[0m \u001b[39mif\u001b[39;00m \u001b[39mnot\u001b[39;00m token:\n",
      "File \u001b[0;32m~/Documents/XLNC_WORK/calibration-scripts/env/lib/python3.10/site-packages/azure/identity/_credentials/azure_cli.py:202\u001b[0m, in \u001b[0;36m_run_command\u001b[0;34m(command, timeout)\u001b[0m\n\u001b[1;32m    200\u001b[0m     \u001b[39mraise\u001b[39;00m CredentialUnavailableError(message\u001b[39m=\u001b[39mCLI_NOT_FOUND) \u001b[39mfrom\u001b[39;00m \u001b[39mex\u001b[39;00m\n\u001b[1;32m    201\u001b[0m \u001b[39mif\u001b[39;00m \u001b[39m\"\u001b[39m\u001b[39maz login\u001b[39m\u001b[39m\"\u001b[39m \u001b[39min\u001b[39;00m ex\u001b[39m.\u001b[39mstderr \u001b[39mor\u001b[39;00m \u001b[39m\"\u001b[39m\u001b[39maz account set\u001b[39m\u001b[39m\"\u001b[39m \u001b[39min\u001b[39;00m ex\u001b[39m.\u001b[39mstderr:\n\u001b[0;32m--> 202\u001b[0m     \u001b[39mraise\u001b[39;00m CredentialUnavailableError(message\u001b[39m=\u001b[39mNOT_LOGGED_IN) \u001b[39mfrom\u001b[39;00m \u001b[39mex\u001b[39;00m\n\u001b[1;32m    204\u001b[0m \u001b[39m# return code is from the CLI -> propagate its output\u001b[39;00m\n\u001b[1;32m    205\u001b[0m \u001b[39mif\u001b[39;00m ex\u001b[39m.\u001b[39mstderr:\n",
      "\u001b[0;31mCredentialUnavailableError\u001b[0m: Please run 'az login' to set up an account"
     ]
    }
   ],
   "source": [
    "credential.get_token(f'/subscriptions/{subscription_id}/resourceGroups/{resource_group_name}/providers/Microsoft.Compute/virtualMachineScaleSets/{scale_set_name}')"
   ]
  },
  {
   "cell_type": "code",
   "execution_count": null,
   "metadata": {},
   "outputs": [],
   "source": [
    "import requests\n",
    "header = {\n",
    "    'Authorization': 'Bearer' + \n",
    "}\n",
    "\"https://management.azure.com/subscriptions/{subscriptionId}/resourceGroups/{resourceGroupName}/providers/microsoft.Compute/virtualMachineScaleSets/{virtualMachineScaleSetName}/virtualMachines/{virtualmachineIndex}/networkInterfaces/{networkInterfaceName}/ipConfigurations?api-version=2017-03-30\""
   ]
  }
 ],
 "metadata": {
  "kernelspec": {
   "display_name": "env",
   "language": "python",
   "name": "python3"
  },
  "language_info": {
   "codemirror_mode": {
    "name": "ipython",
    "version": 3
   },
   "file_extension": ".py",
   "mimetype": "text/x-python",
   "name": "python",
   "nbconvert_exporter": "python",
   "pygments_lexer": "ipython3",
   "version": "3.10.0"
  },
  "orig_nbformat": 4
 },
 "nbformat": 4,
 "nbformat_minor": 2
}
