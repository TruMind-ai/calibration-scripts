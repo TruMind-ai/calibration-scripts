{
 "cells": [
  {
   "cell_type": "code",
   "execution_count": 3,
   "metadata": {},
   "outputs": [],
   "source": [
    "from dotenv import load_dotenv\n",
    "load_dotenv('.env-db')\n",
    "from utils.utils import get_database\n",
    "from transformers import LlamaTokenizerFast\n",
    "tokenizer = LlamaTokenizerFast.from_pretrained('hf-internal-testing/llama-tokenizer')\n",
    "import pandas as pd\n",
    "def count_tokens(prompt):\n",
    "    return len(tokenizer.tokenize(prompt))"
   ]
  },
  {
   "cell_type": "code",
   "execution_count": 4,
   "metadata": {},
   "outputs": [],
   "source": [
    "llm_to_index = {\n",
    "    'openchat/openchat_v3.1': 0, \n",
    "    'OpenAssistant/llama2-13b-orca-8k-3319':1,\n",
    "    'baichuan-inc/Baichuan-13B-Base': 2,\n",
    "}\n",
    "llm_name = 'openchat/openchat_v3.1'\n",
    "dim = 'authority'"
   ]
  },
  {
   "cell_type": "markdown",
   "metadata": {},
   "source": [
    "### output formatting (0 index initial)"
   ]
  },
  {
   "cell_type": "code",
   "execution_count": null,
   "metadata": {},
   "outputs": [],
   "source": [
    "import numpy as np\n",
    "db = get_database()\n",
    "for llm in llm_to_index:\n",
    "    all_ratings_llm = pd.DataFrame(list(db[f'queries/{llm_name}/{dim}'].find({})))\n",
    "    all_ratings_llm['llm_index'] = llm_to_index[llm_name]\n",
    "    try:\n",
    "        all_ratings_llm = all_ratings_llm.drop(columns=['dim'])\n",
    "        all_ratings_llm = all_ratings_llm.drop(columns=['dimnsion'])\n",
    "    except:\n",
    "        pass\n",
    "    # combine prefix and prompt index into a single number\n",
    "    all_ratings_llm = all_ratings_llm.assign(sample_index=lambda x: x.groupby(['sample_index']).ngroup())\n",
    "    all_ratings_llm = all_ratings_llm.assign(item_index=lambda x: x.groupby(['prefix_index', 'prompt_index']).ngroup())\n",
    "    # all_ratings_llm['rating'] = all_ratings_llm['rating'] + 1\n",
    "    all_ratings_llm['rating'] = all_ratings_llm['rating'].replace(0, 1)\n",
    "    all_ratings_llm['rating'] = all_ratings_llm['rating'].replace(list(range(11, 100)), 10)\n",
    "    all_ratings_llm['rating'] = all_ratings_llm['rating'].replace(-100, -1)\n",
    "    all_ratings_llm.to_csv(f'temp/contrast/{dim}_ratings_llm_{llm_to_index[llm_name]}.csv', index=False)"
   ]
  },
  {
   "cell_type": "markdown",
   "metadata": {},
   "source": [
    "### final output for calibration format"
   ]
  },
  {
   "cell_type": "code",
   "execution_count": null,
   "metadata": {},
   "outputs": [],
   "source": [
    "def add_index_range_series(series):\n",
    "    # get in the format of 0-100, 100-200, etc.\n",
    "    return series.min().astype(int).astype(str) + '-' + series.max().astype(int).astype(str)\n",
    "# all_ratings_llm = all_ratings_llm.drop(columns=['_id', 'prefix_index', 'prompt_index'])\n",
    "for llm_name in llm_to_index:\n",
    "    all_ratings_llm_formatted = pd.read_csv(f'temp/contrast/{dim}_ratings_llm_{llm_to_index[llm_name]}.csv')\n",
    "    all_ratings_llm_formatted = all_ratings_llm_formatted.drop(columns=['num_tries', 'latency'])\n",
    "    all_ratings_llm_formatted = all_ratings_llm_formatted.drop(columns=['_id', 'prefix_index', 'prompt_index'])\n",
    "    all_ratings_llm_formatted['item_index'] +=1\n",
    "    all_ratings_llm_formatted['llm_index'] +=1\n",
    "    all_ratings_llm_formatted['sample_index'] +=1\n",
    "    all_ratings_llm_formatted['rating'] = all_ratings_llm_formatted['rating'].astype(int).astype(str).replace('-1', '.')\n",
    "    all_ratings_llm_formatted['rating'].replace('.', '-1').astype(int).hist(bins=10)\n",
    "    all_ratings_llm_formatted = all_ratings_llm_formatted.sort_values('item_index')\\\n",
    "        .groupby(['sample_index', 'llm_index'])\\\n",
    "        .agg({'item_index': add_index_range_series, 'rating': list})\\\n",
    "        .reset_index()\n",
    "    s = all_ratings_llm_formatted['rating']\n",
    "    ratings_df = pd.DataFrame.from_dict(dict(zip(s.index, s.values))).T\n",
    "    all_ratings_llm_formatted = all_ratings_llm_formatted.drop(columns=['rating'])\n",
    "    all_ratings_llm_formatted = pd.concat([all_ratings_llm_formatted, ratings_df], axis=1)\n",
    "    all_ratings_llm_formatted.to_csv(f'temp/contrast/{dim}_ratings_llm_{llm_to_index[llm_name]}_formatted.csv', index=False, header=False)\n"
   ]
  }
 ],
 "metadata": {
  "kernelspec": {
   "display_name": "env",
   "language": "python",
   "name": "python3"
  },
  "language_info": {
   "codemirror_mode": {
    "name": "ipython",
    "version": 3
   },
   "file_extension": ".py",
   "mimetype": "text/x-python",
   "name": "python",
   "nbconvert_exporter": "python",
   "pygments_lexer": "ipython3",
   "version": "3.10.0"
  },
  "orig_nbformat": 4
 },
 "nbformat": 4,
 "nbformat_minor": 2
}
