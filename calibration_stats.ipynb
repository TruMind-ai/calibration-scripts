{
 "cells": [
  {
   "cell_type": "markdown",
   "metadata": {},
   "source": [
    "## Display progress of all ratings"
   ]
  },
  {
   "cell_type": "code",
   "execution_count": 1,
   "metadata": {},
   "outputs": [],
   "source": [
    "from utils.utils import *\n",
    "db = get_database()"
   ]
  },
  {
   "cell_type": "code",
   "execution_count": 2,
   "metadata": {},
   "outputs": [],
   "source": [
    "# dim = all_scales[0]\n",
    "# all_ratings_llm = list(db[f'queries/{llm_name}/{dim}'].find())"
   ]
  },
  {
   "cell_type": "code",
   "execution_count": 2,
   "metadata": {},
   "outputs": [
    {
     "name": "stdout",
     "output_type": "stream",
     "text": [
      "============================\n",
      "DIMENSION: CONTRAST || LLM: Llama-2-orca-13B\n"
     ]
    },
    {
     "name": "stderr",
     "output_type": "stream",
     "text": [
      " 99%| █████████▉ |817591/822672"
     ]
    },
    {
     "name": "stdout",
     "output_type": "stream",
     "text": [
      "IN PROGRESS: 0 || DONE: 817591 || READY: 0 || DEFECTIVE: 882\n",
      "============================\n"
     ]
    },
    {
     "name": "stderr",
     "output_type": "stream",
     "text": [
      "\n"
     ]
    },
    {
     "name": "stdout",
     "output_type": "stream",
     "text": [
      "============================\n",
      "DIMENSION: CONTRAST || LLM: Openchat_v3.1-13B\n"
     ]
    },
    {
     "name": "stderr",
     "output_type": "stream",
     "text": [
      " 96%| █████████▌ |791785/822672"
     ]
    },
    {
     "name": "stdout",
     "output_type": "stream",
     "text": [
      "IN PROGRESS: 0 || DONE: 791785 || READY: 0 || DEFECTIVE: 11540\n",
      "============================\n"
     ]
    },
    {
     "name": "stderr",
     "output_type": "stream",
     "text": [
      "\n"
     ]
    },
    {
     "name": "stdout",
     "output_type": "stream",
     "text": [
      "============================\n",
      "DIMENSION: CONTRAST || LLM: Baichuan-13B\n"
     ]
    },
    {
     "name": "stderr",
     "output_type": "stream",
     "text": [
      " 68%| ██████▊    |556897/822672"
     ]
    },
    {
     "name": "stdout",
     "output_type": "stream",
     "text": [
      "IN PROGRESS: 0 || DONE: 556897 || READY: 8784 || DEFECTIVE: 255814\n",
      "============================\n"
     ]
    },
    {
     "name": "stderr",
     "output_type": "stream",
     "text": [
      "\n"
     ]
    },
    {
     "name": "stdout",
     "output_type": "stream",
     "text": [
      "============================\n",
      "DIMENSION: AUTHORITY || LLM: Llama-2-orca-13B\n"
     ]
    },
    {
     "name": "stderr",
     "output_type": "stream",
     "text": [
      " 99%| █████████▉ |480354/485802"
     ]
    },
    {
     "name": "stdout",
     "output_type": "stream",
     "text": [
      "IN PROGRESS: 0 || DONE: 480354 || READY: 0 || DEFECTIVE: 137\n",
      "============================\n"
     ]
    },
    {
     "name": "stderr",
     "output_type": "stream",
     "text": [
      "\n"
     ]
    },
    {
     "name": "stdout",
     "output_type": "stream",
     "text": [
      "============================\n",
      "DIMENSION: AUTHORITY || LLM: Openchat_v3.1-13B\n"
     ]
    },
    {
     "name": "stderr",
     "output_type": "stream",
     "text": [
      " 99%| █████████▉ |480370/485802"
     ]
    },
    {
     "name": "stdout",
     "output_type": "stream",
     "text": [
      "IN PROGRESS: 0 || DONE: 480370 || READY: 0 || DEFECTIVE: 90\n",
      "============================\n"
     ]
    },
    {
     "name": "stderr",
     "output_type": "stream",
     "text": [
      "\n"
     ]
    },
    {
     "name": "stdout",
     "output_type": "stream",
     "text": [
      "============================\n",
      "DIMENSION: AUTHORITY || LLM: Baichuan-13B\n"
     ]
    },
    {
     "name": "stderr",
     "output_type": "stream",
     "text": [
      " 97%| █████████▋ |473628/485802\n"
     ]
    },
    {
     "name": "stdout",
     "output_type": "stream",
     "text": [
      "IN PROGRESS: 0 || DONE: 473628 || READY: 0 || DEFECTIVE: 12172\n",
      "============================\n",
      "============================\n",
      "DIMENSION: CONSENSUS || LLM: Llama-2-orca-13B\n"
     ]
    },
    {
     "name": "stderr",
     "output_type": "stream",
     "text": [
      "  0%|            |0/0\n"
     ]
    },
    {
     "name": "stdout",
     "output_type": "stream",
     "text": [
      "IN PROGRESS: 0 || DONE: 0 || READY: 0 || DEFECTIVE: 0\n",
      "============================\n",
      "============================\n",
      "DIMENSION: CONSENSUS || LLM: Openchat_v3.1-13B\n"
     ]
    },
    {
     "name": "stderr",
     "output_type": "stream",
     "text": [
      "  0%|            |0/0\n"
     ]
    },
    {
     "name": "stdout",
     "output_type": "stream",
     "text": [
      "IN PROGRESS: 0 || DONE: 0 || READY: 0 || DEFECTIVE: 0\n",
      "============================\n",
      "============================\n",
      "DIMENSION: CONSENSUS || LLM: Baichuan-13B\n"
     ]
    },
    {
     "name": "stderr",
     "output_type": "stream",
     "text": [
      "  0%|            |0/0\n"
     ]
    },
    {
     "name": "stdout",
     "output_type": "stream",
     "text": [
      "IN PROGRESS: 0 || DONE: 0 || READY: 0 || DEFECTIVE: 0\n",
      "============================\n",
      "============================\n",
      "DIMENSION: CONSISTENCY || LLM: Llama-2-orca-13B\n"
     ]
    },
    {
     "name": "stderr",
     "output_type": "stream",
     "text": [
      "  0%|            |0/0\n"
     ]
    },
    {
     "name": "stdout",
     "output_type": "stream",
     "text": [
      "IN PROGRESS: 0 || DONE: 0 || READY: 0 || DEFECTIVE: 0\n",
      "============================\n",
      "============================\n",
      "DIMENSION: CONSISTENCY || LLM: Openchat_v3.1-13B\n"
     ]
    },
    {
     "name": "stderr",
     "output_type": "stream",
     "text": [
      "  0%|            |0/0\n"
     ]
    },
    {
     "name": "stdout",
     "output_type": "stream",
     "text": [
      "IN PROGRESS: 0 || DONE: 0 || READY: 0 || DEFECTIVE: 0\n",
      "============================\n",
      "============================\n",
      "DIMENSION: CONSISTENCY || LLM: Baichuan-13B\n"
     ]
    },
    {
     "name": "stderr",
     "output_type": "stream",
     "text": [
      "  0%|            |0/0"
     ]
    },
    {
     "name": "stdout",
     "output_type": "stream",
     "text": [
      "IN PROGRESS: 0 || DONE: 0 || READY: 0 || DEFECTIVE: 0\n",
      "============================\n"
     ]
    },
    {
     "name": "stderr",
     "output_type": "stream",
     "text": [
      "\n"
     ]
    },
    {
     "name": "stdout",
     "output_type": "stream",
     "text": [
      "============================\n",
      "DIMENSION: SCARCITY || LLM: Llama-2-orca-13B\n"
     ]
    },
    {
     "name": "stderr",
     "output_type": "stream",
     "text": [
      "  0%|            |0/0\n"
     ]
    },
    {
     "name": "stdout",
     "output_type": "stream",
     "text": [
      "IN PROGRESS: 0 || DONE: 0 || READY: 0 || DEFECTIVE: 0\n",
      "============================\n",
      "============================\n",
      "DIMENSION: SCARCITY || LLM: Openchat_v3.1-13B\n"
     ]
    },
    {
     "name": "stderr",
     "output_type": "stream",
     "text": [
      "  0%|            |0/0\n"
     ]
    },
    {
     "name": "stdout",
     "output_type": "stream",
     "text": [
      "IN PROGRESS: 0 || DONE: 0 || READY: 0 || DEFECTIVE: 0\n",
      "============================\n",
      "============================\n",
      "DIMENSION: SCARCITY || LLM: Baichuan-13B\n"
     ]
    },
    {
     "name": "stderr",
     "output_type": "stream",
     "text": [
      "  0%|            |0/0\n"
     ]
    },
    {
     "name": "stdout",
     "output_type": "stream",
     "text": [
      "IN PROGRESS: 0 || DONE: 0 || READY: 0 || DEFECTIVE: 0\n",
      "============================\n",
      "============================\n",
      "DIMENSION: UNITY || LLM: Llama-2-orca-13B\n"
     ]
    },
    {
     "name": "stderr",
     "output_type": "stream",
     "text": [
      "  0%|            |0/0\n"
     ]
    },
    {
     "name": "stdout",
     "output_type": "stream",
     "text": [
      "IN PROGRESS: 0 || DONE: 0 || READY: 0 || DEFECTIVE: 0\n",
      "============================\n",
      "============================\n",
      "DIMENSION: UNITY || LLM: Openchat_v3.1-13B\n"
     ]
    },
    {
     "name": "stderr",
     "output_type": "stream",
     "text": [
      "  0%|            |0/0\n"
     ]
    },
    {
     "name": "stdout",
     "output_type": "stream",
     "text": [
      "IN PROGRESS: 0 || DONE: 0 || READY: 0 || DEFECTIVE: 0\n",
      "============================\n",
      "============================\n",
      "DIMENSION: UNITY || LLM: Baichuan-13B\n"
     ]
    },
    {
     "name": "stderr",
     "output_type": "stream",
     "text": [
      "  0%|            |0/0\n"
     ]
    },
    {
     "name": "stdout",
     "output_type": "stream",
     "text": [
      "IN PROGRESS: 0 || DONE: 0 || READY: 0 || DEFECTIVE: 0\n",
      "============================\n",
      "============================\n",
      "DIMENSION: LIKING || LLM: Llama-2-orca-13B\n"
     ]
    },
    {
     "name": "stderr",
     "output_type": "stream",
     "text": [
      "  0%|            |0/0\n"
     ]
    },
    {
     "name": "stdout",
     "output_type": "stream",
     "text": [
      "IN PROGRESS: 0 || DONE: 0 || READY: 0 || DEFECTIVE: 0\n",
      "============================\n",
      "============================\n",
      "DIMENSION: LIKING || LLM: Openchat_v3.1-13B\n"
     ]
    },
    {
     "name": "stderr",
     "output_type": "stream",
     "text": [
      "  0%|            |0/0\n"
     ]
    },
    {
     "name": "stdout",
     "output_type": "stream",
     "text": [
      "IN PROGRESS: 0 || DONE: 0 || READY: 0 || DEFECTIVE: 0\n",
      "============================\n",
      "============================\n",
      "DIMENSION: LIKING || LLM: Baichuan-13B\n"
     ]
    },
    {
     "name": "stderr",
     "output_type": "stream",
     "text": [
      "  0%|            |0/0"
     ]
    },
    {
     "name": "stdout",
     "output_type": "stream",
     "text": [
      "IN PROGRESS: 0 || DONE: 0 || READY: 0 || DEFECTIVE: 0\n",
      "============================\n"
     ]
    },
    {
     "name": "stderr",
     "output_type": "stream",
     "text": [
      "\n"
     ]
    },
    {
     "name": "stdout",
     "output_type": "stream",
     "text": [
      "============================\n",
      "DIMENSION: RECIPROCITY || LLM: Llama-2-orca-13B\n"
     ]
    },
    {
     "name": "stderr",
     "output_type": "stream",
     "text": [
      "  0%|            |0/0\n"
     ]
    },
    {
     "name": "stdout",
     "output_type": "stream",
     "text": [
      "IN PROGRESS: 0 || DONE: 0 || READY: 0 || DEFECTIVE: 0\n",
      "============================\n",
      "============================\n",
      "DIMENSION: RECIPROCITY || LLM: Openchat_v3.1-13B\n"
     ]
    },
    {
     "name": "stderr",
     "output_type": "stream",
     "text": [
      "  0%|            |0/0"
     ]
    },
    {
     "name": "stdout",
     "output_type": "stream",
     "text": [
      "IN PROGRESS: 0 || DONE: 0 || READY: 0 || DEFECTIVE: 0\n",
      "============================\n"
     ]
    },
    {
     "name": "stderr",
     "output_type": "stream",
     "text": [
      "\n"
     ]
    },
    {
     "name": "stdout",
     "output_type": "stream",
     "text": [
      "============================\n",
      "DIMENSION: RECIPROCITY || LLM: Baichuan-13B\n"
     ]
    },
    {
     "name": "stderr",
     "output_type": "stream",
     "text": [
      "  0%|            |0/0"
     ]
    },
    {
     "name": "stdout",
     "output_type": "stream",
     "text": [
      "IN PROGRESS: 0 || DONE: 0 || READY: 0 || DEFECTIVE: 0\n",
      "============================\n"
     ]
    },
    {
     "name": "stderr",
     "output_type": "stream",
     "text": [
      "\n"
     ]
    }
   ],
   "source": [
    "display_rating_stats_many(scales=all_scales, llms=all_llms, db=db)"
   ]
  }
 ],
 "metadata": {
  "kernelspec": {
   "display_name": "env",
   "language": "python",
   "name": "python3"
  },
  "language_info": {
   "codemirror_mode": {
    "name": "ipython",
    "version": 3
   },
   "file_extension": ".py",
   "mimetype": "text/x-python",
   "name": "python",
   "nbconvert_exporter": "python",
   "pygments_lexer": "ipython3",
   "version": "3.10.0"
  },
  "orig_nbformat": 4
 },
 "nbformat": 4,
 "nbformat_minor": 2
}
