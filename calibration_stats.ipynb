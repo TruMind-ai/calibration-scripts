{
 "cells": [
  {
   "cell_type": "code",
   "execution_count": 33,
   "metadata": {},
   "outputs": [],
   "source": [
    "from dotenv import load_dotenv\n",
    "load_dotenv('.env-db')\n",
    "from utils.utils import get_database, all_scales, all_llms\n",
    "from transformers import LlamaTokenizerFast\n",
    "tokenizer = LlamaTokenizerFast.from_pretrained('hf-internal-testing/llama-tokenizer')\n",
    "from tqdm.notebook import tqdm\n",
    "import pandas as pd\n",
    "def count_tokens(prompt):\n",
    "    return len(tokenizer.tokenize(prompt))\n",
    "db = get_database()"
   ]
  },
  {
   "cell_type": "markdown",
   "metadata": {},
   "source": [
    "## Display progress of all ratings"
   ]
  },
  {
   "cell_type": "code",
   "execution_count": 34,
   "metadata": {},
   "outputs": [],
   "source": [
    "scales = ['contrast']\n",
    "llms = all_llms"
   ]
  },
  {
   "cell_type": "code",
   "execution_count": 4,
   "metadata": {},
   "outputs": [],
   "source": [
    "llm_name = llms[0]\n",
    "dim = scales[0]\n",
    "all_llm_ratings_in_scale = list(db[f'queries/{llm_name}/{dim}'].find({}))\n"
   ]
  },
  {
   "cell_type": "code",
   "execution_count": 38,
   "metadata": {},
   "outputs": [
    {
     "name": "stderr",
     "output_type": "stream",
     "text": [
      "SCLAE: CONTRAST || LLM: llama2-13b-orca-8k-3319: :   0%|           | 0/822672\n"
     ]
    },
    {
     "data": {
      "application/vnd.jupyter.widget-view+json": {
       "model_id": "2c13585da964494a9101e3073a784b0f",
       "version_major": 2,
       "version_minor": 0
      },
      "text/plain": [
       "  0%\n",
       "|          | \n",
       "0/822672 ||  "
      ]
     },
     "metadata": {},
     "output_type": "display_data"
    },
    {
     "data": {
      "application/vnd.jupyter.widget-view+json": {
       "model_id": "f1c5bd1788ce4a4e95763986db79582c",
       "version_major": 2,
       "version_minor": 0
      },
      "text/plain": [
       "  0%\n",
       "|          | \n",
       "0/822672 ||  "
      ]
     },
     "metadata": {},
     "output_type": "display_data"
    },
    {
     "data": {
      "application/vnd.jupyter.widget-view+json": {
       "model_id": "a18fba9fb96e401f90928e7da1515775",
       "version_major": 2,
       "version_minor": 0
      },
      "text/plain": [
       "  0%\n",
       "|          | \n",
       "0/822672 ||  "
      ]
     },
     "metadata": {},
     "output_type": "display_data"
    }
   ],
   "source": [
    "# TQDM SETTINGS\n",
    "bar_format='{desc}: {percentage:3.0f}%\\n|{bar}| \\n{n_fmt}/{total_fmt} || {postfix} '\n",
    "for dim in scales:\n",
    "    for llm_name in llms:\n",
    "        all_llm_ratings_in_scale = list(db[f'queries/{llm_name}/{dim}'].find({}))\n",
    "        num_in_progress, num_done, num_ready, num_need_to_retry = 0, 0, 0, 0\n",
    "        for rating_doc in (all_llm_ratings_in_scale):\n",
    "            if rating_doc['rating'] == -1 and rating_doc['latency'] == -1:\n",
    "                num_ready +=1\n",
    "            elif rating_doc['rating'] == -1 and rating_doc['latency'] > 0:\n",
    "                num_need_to_retry +=1\n",
    "            elif rating_doc['rating'] > -1:\n",
    "                num_done +=1\n",
    "            # TODO: case for in_progress ratings.\n",
    "        pbar = tqdm(total=len(all_llm_ratings_in_scale), bar_format=bar_format)\n",
    "        pbar.set_description('SCLAE: ' +  dim.upper() + ' || ' + 'LLM: ' +  llm_name[llm_name.index('/') + 1:])\n",
    "        pbar.update(num_done)\n",
    "        pbar.set_postfix({'# in progress': num_in_progress, '# done': num_done, '# ready': num_ready, '# need_to_retry': num_need_to_retry})"
   ]
  },
  {
   "cell_type": "code",
   "execution_count": null,
   "metadata": {},
   "outputs": [],
   "source": []
  }
 ],
 "metadata": {
  "kernelspec": {
   "display_name": "env",
   "language": "python",
   "name": "python3"
  },
  "language_info": {
   "codemirror_mode": {
    "name": "ipython",
    "version": 3
   },
   "file_extension": ".py",
   "mimetype": "text/x-python",
   "name": "python",
   "nbconvert_exporter": "python",
   "pygments_lexer": "ipython3",
   "version": "3.10.0"
  },
  "orig_nbformat": 4
 },
 "nbformat": 4,
 "nbformat_minor": 2
}
