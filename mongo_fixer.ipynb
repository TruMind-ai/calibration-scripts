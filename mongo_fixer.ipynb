{
 "cells": [
  {
   "cell_type": "code",
   "execution_count": 1,
   "metadata": {},
   "outputs": [
    {
     "name": "stderr",
     "output_type": "stream",
     "text": [
      "/Users/vaishakkrishna/Documents/XLNC_WORK/calibration-scripts/env/lib/python3.10/site-packages/tqdm/auto.py:21: TqdmWarning: IProgress not found. Please update jupyter and ipywidgets. See https://ipywidgets.readthedocs.io/en/stable/user_install.html\n",
      "  from .autonotebook import tqdm as notebook_tqdm\n",
      "None of PyTorch, TensorFlow >= 2.0, or Flax have been found. Models won't be available and only tokenizers, configuration and file/data utilities can be used.\n"
     ]
    }
   ],
   "source": [
    "from dotenv import load_dotenv\n",
    "\n",
    "load_dotenv('.env-db')\n",
    "from utils.utils import get_database\n",
    "from transformers import LlamaTokenizerFast\n",
    "tokenizer = LlamaTokenizerFast.from_pretrained('hf-internal-testing/llama-tokenizer')\n",
    "import pandas as pd\n",
    "def count_tokens(prompt):\n",
    "    return len(tokenizer.tokenize(prompt))"
   ]
  },
  {
   "cell_type": "markdown",
   "metadata": {},
   "source": []
  },
  {
   "cell_type": "code",
   "execution_count": 5,
   "metadata": {},
   "outputs": [],
   "source": [
    "db = get_database()\n",
    "llm_name = 'baichuan-inc/Baichuan-13B-Base'\n",
    "dim = 'authority'\n",
    "# llm_name = 'OpenAssistant/llama2-13b-orca-8k-3319'\n",
    "# llm_name = 'openchat/openchat_v3.1'\n",
    "# all_ratings_llm = pd.DataFrame(list(db[f'queries/{llm_name}/{dim}'].find({})))\n",
    "# all_ratings_llm = pd.DataFrame(list(db[f'queries/{dim}/{llm_name}'].find({})))\n",
    "# db[f'queries/{llm_name}/{dim}'].insert_many(list(db[f'queries/reference/{dim}'].find({})))\n",
    "\n"
   ]
  },
  {
   "cell_type": "code",
   "execution_count": 96,
   "metadata": {},
   "outputs": [],
   "source": [
    "# all_queries = list(db[f'queries/reference/{dim}'].find({\"$latency\": {\"$gt\": 0}}))\n",
    "# db[f'queries/{llm_name}/{dim}'].insert_many(all_queries)"
   ]
  },
  {
   "cell_type": "code",
   "execution_count": null,
   "metadata": {},
   "outputs": [],
   "source": []
  },
  {
   "cell_type": "code",
   "execution_count": 97,
   "metadata": {},
   "outputs": [],
   "source": [
    "# len(all_queries)"
   ]
  },
  {
   "cell_type": "code",
   "execution_count": 98,
   "metadata": {},
   "outputs": [],
   "source": [
    "# db[f'queries/{llm_name}/{dim}'].insert_many(all_queries)"
   ]
  },
  {
   "cell_type": "code",
   "execution_count": 3,
   "metadata": {},
   "outputs": [
    {
     "ename": "KeyError",
     "evalue": "'latency'",
     "output_type": "error",
     "traceback": [
      "\u001b[0;31m---------------------------------------------------------------------------\u001b[0m",
      "\u001b[0;31mKeyError\u001b[0m                                  Traceback (most recent call last)",
      "Cell \u001b[0;32mIn[3], line 4\u001b[0m\n\u001b[1;32m      2\u001b[0m latencies \u001b[39m=\u001b[39m \u001b[39mlist\u001b[39m(db[\u001b[39mf\u001b[39m\u001b[39m'\u001b[39m\u001b[39mqueries/\u001b[39m\u001b[39m{\u001b[39;00mllm_name\u001b[39m}\u001b[39;00m\u001b[39m/\u001b[39m\u001b[39m{\u001b[39;00mdim\u001b[39m}\u001b[39;00m\u001b[39m'\u001b[39m]\u001b[39m.\u001b[39mfind({\u001b[39m\"\u001b[39m\u001b[39mlatency\u001b[39m\u001b[39m\"\u001b[39m:{\u001b[39m\"\u001b[39m\u001b[39m$gt\u001b[39m\u001b[39m\"\u001b[39m:\u001b[39m0\u001b[39m}}))\n\u001b[1;32m      3\u001b[0m latencies \u001b[39m=\u001b[39m pd\u001b[39m.\u001b[39mDataFrame(latencies)\n\u001b[0;32m----> 4\u001b[0m latencies[\u001b[39m'\u001b[39;49m\u001b[39mlatency\u001b[39;49m\u001b[39m'\u001b[39;49m]\u001b[39m.\u001b[39mhist(bins\u001b[39m=\u001b[39m\u001b[39m100\u001b[39m)\n\u001b[1;32m      5\u001b[0m \u001b[39mprint\u001b[39m(\u001b[39mf\u001b[39m\u001b[39m\"\u001b[39m\u001b[39mAverage latency: \u001b[39m\u001b[39m{\u001b[39;00m\u001b[39msum\u001b[39m(latencies[\u001b[39m'\u001b[39m\u001b[39mlatency\u001b[39m\u001b[39m'\u001b[39m])\u001b[39m/\u001b[39m\u001b[39mlen\u001b[39m(latencies[\u001b[39m'\u001b[39m\u001b[39mlatency\u001b[39m\u001b[39m'\u001b[39m])\u001b[39m}\u001b[39;00m\u001b[39m\"\u001b[39m)\n",
      "File \u001b[0;32m~/Documents/XLNC_WORK/calibration-scripts/env/lib/python3.10/site-packages/pandas/core/frame.py:3761\u001b[0m, in \u001b[0;36mDataFrame.__getitem__\u001b[0;34m(self, key)\u001b[0m\n\u001b[1;32m   3759\u001b[0m \u001b[39mif\u001b[39;00m \u001b[39mself\u001b[39m\u001b[39m.\u001b[39mcolumns\u001b[39m.\u001b[39mnlevels \u001b[39m>\u001b[39m \u001b[39m1\u001b[39m:\n\u001b[1;32m   3760\u001b[0m     \u001b[39mreturn\u001b[39;00m \u001b[39mself\u001b[39m\u001b[39m.\u001b[39m_getitem_multilevel(key)\n\u001b[0;32m-> 3761\u001b[0m indexer \u001b[39m=\u001b[39m \u001b[39mself\u001b[39;49m\u001b[39m.\u001b[39;49mcolumns\u001b[39m.\u001b[39;49mget_loc(key)\n\u001b[1;32m   3762\u001b[0m \u001b[39mif\u001b[39;00m is_integer(indexer):\n\u001b[1;32m   3763\u001b[0m     indexer \u001b[39m=\u001b[39m [indexer]\n",
      "File \u001b[0;32m~/Documents/XLNC_WORK/calibration-scripts/env/lib/python3.10/site-packages/pandas/core/indexes/range.py:349\u001b[0m, in \u001b[0;36mRangeIndex.get_loc\u001b[0;34m(self, key)\u001b[0m\n\u001b[1;32m    347\u001b[0m         \u001b[39mraise\u001b[39;00m \u001b[39mKeyError\u001b[39;00m(key) \u001b[39mfrom\u001b[39;00m \u001b[39merr\u001b[39;00m\n\u001b[1;32m    348\u001b[0m \u001b[39mif\u001b[39;00m \u001b[39misinstance\u001b[39m(key, Hashable):\n\u001b[0;32m--> 349\u001b[0m     \u001b[39mraise\u001b[39;00m \u001b[39mKeyError\u001b[39;00m(key)\n\u001b[1;32m    350\u001b[0m \u001b[39mself\u001b[39m\u001b[39m.\u001b[39m_check_indexing_error(key)\n\u001b[1;32m    351\u001b[0m \u001b[39mraise\u001b[39;00m \u001b[39mKeyError\u001b[39;00m(key)\n",
      "\u001b[0;31mKeyError\u001b[0m: 'latency'"
     ]
    }
   ],
   "source": [
    "# get average latency\n",
    "latencies = list(db[f'queries/{llm_name}/{dim}'].find({\"latency\":{\"$gt\":0}}))\n",
    "latencies = pd.DataFrame(latencies)\n",
    "latencies['latency'].hist(bins=100)\n",
    "print(f\"Average latency: {sum(latencies['latency'])/len(latencies['latency'])}\")"
   ]
  },
  {
   "cell_type": "code",
   "execution_count": 4,
   "metadata": {},
   "outputs": [
    {
     "ename": "KeyError",
     "evalue": "'rating'",
     "output_type": "error",
     "traceback": [
      "\u001b[0;31m---------------------------------------------------------------------------\u001b[0m",
      "\u001b[0;31mKeyError\u001b[0m                                  Traceback (most recent call last)",
      "Cell \u001b[0;32mIn[4], line 1\u001b[0m\n\u001b[0;32m----> 1\u001b[0m latencies[\u001b[39m'\u001b[39;49m\u001b[39mrating\u001b[39;49m\u001b[39m'\u001b[39;49m]\u001b[39m.\u001b[39mhist(bins\u001b[39m=\u001b[39m\u001b[39m100\u001b[39m)\n",
      "File \u001b[0;32m~/Documents/XLNC_WORK/calibration-scripts/env/lib/python3.10/site-packages/pandas/core/frame.py:3761\u001b[0m, in \u001b[0;36mDataFrame.__getitem__\u001b[0;34m(self, key)\u001b[0m\n\u001b[1;32m   3759\u001b[0m \u001b[39mif\u001b[39;00m \u001b[39mself\u001b[39m\u001b[39m.\u001b[39mcolumns\u001b[39m.\u001b[39mnlevels \u001b[39m>\u001b[39m \u001b[39m1\u001b[39m:\n\u001b[1;32m   3760\u001b[0m     \u001b[39mreturn\u001b[39;00m \u001b[39mself\u001b[39m\u001b[39m.\u001b[39m_getitem_multilevel(key)\n\u001b[0;32m-> 3761\u001b[0m indexer \u001b[39m=\u001b[39m \u001b[39mself\u001b[39;49m\u001b[39m.\u001b[39;49mcolumns\u001b[39m.\u001b[39;49mget_loc(key)\n\u001b[1;32m   3762\u001b[0m \u001b[39mif\u001b[39;00m is_integer(indexer):\n\u001b[1;32m   3763\u001b[0m     indexer \u001b[39m=\u001b[39m [indexer]\n",
      "File \u001b[0;32m~/Documents/XLNC_WORK/calibration-scripts/env/lib/python3.10/site-packages/pandas/core/indexes/range.py:349\u001b[0m, in \u001b[0;36mRangeIndex.get_loc\u001b[0;34m(self, key)\u001b[0m\n\u001b[1;32m    347\u001b[0m         \u001b[39mraise\u001b[39;00m \u001b[39mKeyError\u001b[39;00m(key) \u001b[39mfrom\u001b[39;00m \u001b[39merr\u001b[39;00m\n\u001b[1;32m    348\u001b[0m \u001b[39mif\u001b[39;00m \u001b[39misinstance\u001b[39m(key, Hashable):\n\u001b[0;32m--> 349\u001b[0m     \u001b[39mraise\u001b[39;00m \u001b[39mKeyError\u001b[39;00m(key)\n\u001b[1;32m    350\u001b[0m \u001b[39mself\u001b[39m\u001b[39m.\u001b[39m_check_indexing_error(key)\n\u001b[1;32m    351\u001b[0m \u001b[39mraise\u001b[39;00m \u001b[39mKeyError\u001b[39;00m(key)\n",
      "\u001b[0;31mKeyError\u001b[0m: 'rating'"
     ]
    }
   ],
   "source": [
    "latencies['rating'].hist(bins=100)"
   ]
  },
  {
   "cell_type": "code",
   "execution_count": 25,
   "metadata": {},
   "outputs": [
    {
     "data": {
      "text/html": [
       "<div>\n",
       "<style scoped>\n",
       "    .dataframe tbody tr th:only-of-type {\n",
       "        vertical-align: middle;\n",
       "    }\n",
       "\n",
       "    .dataframe tbody tr th {\n",
       "        vertical-align: top;\n",
       "    }\n",
       "\n",
       "    .dataframe thead th {\n",
       "        text-align: right;\n",
       "    }\n",
       "</style>\n",
       "<table border=\"1\" class=\"dataframe\">\n",
       "  <thead>\n",
       "    <tr style=\"text-align: right;\">\n",
       "      <th></th>\n",
       "      <th>_id</th>\n",
       "      <th>prefix_index</th>\n",
       "      <th>prompt_index</th>\n",
       "      <th>sample_index</th>\n",
       "      <th>dimension</th>\n",
       "      <th>latency</th>\n",
       "      <th>num_tries</th>\n",
       "      <th>rating</th>\n",
       "      <th>dim</th>\n",
       "      <th>prefix_prompt_index</th>\n",
       "      <th>llm</th>\n",
       "      <th>llm_index</th>\n",
       "      <th>num_code</th>\n",
       "    </tr>\n",
       "  </thead>\n",
       "  <tbody>\n",
       "    <tr>\n",
       "      <th>0</th>\n",
       "      <td>64d9cf7a2f56523c0bb39430</td>\n",
       "      <td>0</td>\n",
       "      <td>0</td>\n",
       "      <td>0</td>\n",
       "      <td>contrast</td>\n",
       "      <td>0.213342</td>\n",
       "      <td>1</td>\n",
       "      <td>8</td>\n",
       "      <td>all</td>\n",
       "      <td>0</td>\n",
       "      <td>0</td>\n",
       "      <td>0</td>\n",
       "      <td>0</td>\n",
       "    </tr>\n",
       "    <tr>\n",
       "      <th>1</th>\n",
       "      <td>64d9cf7a2f56523c0bb39431</td>\n",
       "      <td>0</td>\n",
       "      <td>0</td>\n",
       "      <td>1</td>\n",
       "      <td>contrast</td>\n",
       "      <td>0.213331</td>\n",
       "      <td>1</td>\n",
       "      <td>9</td>\n",
       "      <td>NaN</td>\n",
       "      <td>0</td>\n",
       "      <td>0</td>\n",
       "      <td>0</td>\n",
       "      <td>1</td>\n",
       "    </tr>\n",
       "    <tr>\n",
       "      <th>2</th>\n",
       "      <td>64d9cf7a2f56523c0bb39432</td>\n",
       "      <td>0</td>\n",
       "      <td>0</td>\n",
       "      <td>2</td>\n",
       "      <td>contrast</td>\n",
       "      <td>0.213319</td>\n",
       "      <td>1</td>\n",
       "      <td>9</td>\n",
       "      <td>NaN</td>\n",
       "      <td>0</td>\n",
       "      <td>0</td>\n",
       "      <td>0</td>\n",
       "      <td>2</td>\n",
       "    </tr>\n",
       "    <tr>\n",
       "      <th>3</th>\n",
       "      <td>64d9cf7a2f56523c0bb39433</td>\n",
       "      <td>0</td>\n",
       "      <td>0</td>\n",
       "      <td>3</td>\n",
       "      <td>contrast</td>\n",
       "      <td>0.213308</td>\n",
       "      <td>1</td>\n",
       "      <td>8</td>\n",
       "      <td>NaN</td>\n",
       "      <td>0</td>\n",
       "      <td>0</td>\n",
       "      <td>0</td>\n",
       "      <td>3</td>\n",
       "    </tr>\n",
       "    <tr>\n",
       "      <th>4</th>\n",
       "      <td>64d9cf7a2f56523c0bb39434</td>\n",
       "      <td>0</td>\n",
       "      <td>0</td>\n",
       "      <td>4</td>\n",
       "      <td>contrast</td>\n",
       "      <td>0.213296</td>\n",
       "      <td>1</td>\n",
       "      <td>1</td>\n",
       "      <td>NaN</td>\n",
       "      <td>0</td>\n",
       "      <td>0</td>\n",
       "      <td>0</td>\n",
       "      <td>4</td>\n",
       "    </tr>\n",
       "    <tr>\n",
       "      <th>...</th>\n",
       "      <td>...</td>\n",
       "      <td>...</td>\n",
       "      <td>...</td>\n",
       "      <td>...</td>\n",
       "      <td>...</td>\n",
       "      <td>...</td>\n",
       "      <td>...</td>\n",
       "      <td>...</td>\n",
       "      <td>...</td>\n",
       "      <td>...</td>\n",
       "      <td>...</td>\n",
       "      <td>...</td>\n",
       "      <td>...</td>\n",
       "    </tr>\n",
       "    <tr>\n",
       "      <th>411331</th>\n",
       "      <td>64db9f91711366156b9747ce</td>\n",
       "      <td>5</td>\n",
       "      <td>115</td>\n",
       "      <td>5079</td>\n",
       "      <td>all</td>\n",
       "      <td>0.263720</td>\n",
       "      <td>1</td>\n",
       "      <td>3</td>\n",
       "      <td>NaN</td>\n",
       "      <td>695</td>\n",
       "      <td>0</td>\n",
       "      <td>0</td>\n",
       "      <td>586</td>\n",
       "    </tr>\n",
       "    <tr>\n",
       "      <th>411332</th>\n",
       "      <td>64db9f91711366156b9747cf</td>\n",
       "      <td>5</td>\n",
       "      <td>115</td>\n",
       "      <td>5080</td>\n",
       "      <td>all</td>\n",
       "      <td>0.263709</td>\n",
       "      <td>1</td>\n",
       "      <td>4</td>\n",
       "      <td>NaN</td>\n",
       "      <td>695</td>\n",
       "      <td>0</td>\n",
       "      <td>0</td>\n",
       "      <td>587</td>\n",
       "    </tr>\n",
       "    <tr>\n",
       "      <th>411333</th>\n",
       "      <td>64db9f91711366156b9747d0</td>\n",
       "      <td>5</td>\n",
       "      <td>115</td>\n",
       "      <td>5081</td>\n",
       "      <td>all</td>\n",
       "      <td>0.263698</td>\n",
       "      <td>1</td>\n",
       "      <td>8</td>\n",
       "      <td>NaN</td>\n",
       "      <td>695</td>\n",
       "      <td>0</td>\n",
       "      <td>0</td>\n",
       "      <td>588</td>\n",
       "    </tr>\n",
       "    <tr>\n",
       "      <th>411334</th>\n",
       "      <td>64db9f91711366156b9747d1</td>\n",
       "      <td>5</td>\n",
       "      <td>115</td>\n",
       "      <td>5082</td>\n",
       "      <td>all</td>\n",
       "      <td>0.263687</td>\n",
       "      <td>1</td>\n",
       "      <td>7</td>\n",
       "      <td>NaN</td>\n",
       "      <td>695</td>\n",
       "      <td>0</td>\n",
       "      <td>0</td>\n",
       "      <td>589</td>\n",
       "    </tr>\n",
       "    <tr>\n",
       "      <th>411335</th>\n",
       "      <td>64db9f91711366156b9747d2</td>\n",
       "      <td>5</td>\n",
       "      <td>115</td>\n",
       "      <td>5083</td>\n",
       "      <td>all</td>\n",
       "      <td>0.263668</td>\n",
       "      <td>1</td>\n",
       "      <td>5</td>\n",
       "      <td>NaN</td>\n",
       "      <td>695</td>\n",
       "      <td>0</td>\n",
       "      <td>0</td>\n",
       "      <td>590</td>\n",
       "    </tr>\n",
       "  </tbody>\n",
       "</table>\n",
       "<p>411336 rows × 13 columns</p>\n",
       "</div>"
      ],
      "text/plain": [
       "                             _id  prefix_index  prompt_index  sample_index  \\\n",
       "0       64d9cf7a2f56523c0bb39430             0             0             0   \n",
       "1       64d9cf7a2f56523c0bb39431             0             0             1   \n",
       "2       64d9cf7a2f56523c0bb39432             0             0             2   \n",
       "3       64d9cf7a2f56523c0bb39433             0             0             3   \n",
       "4       64d9cf7a2f56523c0bb39434             0             0             4   \n",
       "...                          ...           ...           ...           ...   \n",
       "411331  64db9f91711366156b9747ce             5           115          5079   \n",
       "411332  64db9f91711366156b9747cf             5           115          5080   \n",
       "411333  64db9f91711366156b9747d0             5           115          5081   \n",
       "411334  64db9f91711366156b9747d1             5           115          5082   \n",
       "411335  64db9f91711366156b9747d2             5           115          5083   \n",
       "\n",
       "       dimension   latency  num_tries  rating  dim  prefix_prompt_index  llm  \\\n",
       "0       contrast  0.213342          1       8  all                    0    0   \n",
       "1       contrast  0.213331          1       9  NaN                    0    0   \n",
       "2       contrast  0.213319          1       9  NaN                    0    0   \n",
       "3       contrast  0.213308          1       8  NaN                    0    0   \n",
       "4       contrast  0.213296          1       1  NaN                    0    0   \n",
       "...          ...       ...        ...     ...  ...                  ...  ...   \n",
       "411331       all  0.263720          1       3  NaN                  695    0   \n",
       "411332       all  0.263709          1       4  NaN                  695    0   \n",
       "411333       all  0.263698          1       8  NaN                  695    0   \n",
       "411334       all  0.263687          1       7  NaN                  695    0   \n",
       "411335       all  0.263668          1       5  NaN                  695    0   \n",
       "\n",
       "        llm_index  num_code  \n",
       "0               0         0  \n",
       "1               0         1  \n",
       "2               0         2  \n",
       "3               0         3  \n",
       "4               0         4  \n",
       "...           ...       ...  \n",
       "411331          0       586  \n",
       "411332          0       587  \n",
       "411333          0       588  \n",
       "411334          0       589  \n",
       "411335          0       590  \n",
       "\n",
       "[411336 rows x 13 columns]"
      ]
     },
     "execution_count": 25,
     "metadata": {},
     "output_type": "execute_result"
    }
   ],
   "source": [
    "all_ratings_llm"
   ]
  },
  {
   "cell_type": "code",
   "execution_count": null,
   "metadata": {},
   "outputs": [],
   "source": [
    "count_tokens('10')"
   ]
  },
  {
   "cell_type": "code",
   "execution_count": null,
   "metadata": {},
   "outputs": [],
   "source": [
    "# import tqdm\n",
    "# # display dist. of prompt lengths\n",
    "# dim = 'contrast'\n",
    "# prefixes = {prefix['prefix_index']:prefix for prefix in list(db['prefixes'].find({}))}\n",
    "# prompts = {prompt['prompt_index']:prompt for prompt in list(db[f'core_prompts/{dim}'].find({}))}\n",
    "# samples = {sample['sample_index']:sample for sample in list(db[f'samples/{dim}'].find({}))}\n",
    "# tokens_dist = []\n",
    "# prefix = max(prefixes.values(), key=lambda x : len(x['prefix']))\n",
    "# for prompt in tqdm.tqdm(prompts):\n",
    "#     for sample in samples:\n",
    "#         t = count_tokens(prefix['prefix'] + prompts[prompt]['combined_prompt'] + samples[sample]['sample'])\n",
    "#         tokens_dist.append(t)\n",
    "# pd.Series(tokens_dist).hist(bins=100)"
   ]
  },
  {
   "cell_type": "code",
   "execution_count": 13,
   "metadata": {},
   "outputs": [
    {
     "name": "stdout",
     "output_type": "stream",
     "text": [
      "UPLOADING DIMENSION authority\n"
     ]
    },
    {
     "name": "stderr",
     "output_type": "stream",
     "text": [
      "100%|██████████| 6/6 [00:00<00:00, 35.62it/s]\n"
     ]
    }
   ],
   "source": [
    "import tqdm\n",
    "skip_prefix_severe = ['reciprocity', 'unity', 'scarcity']\n",
    "for dim in ['authority']:\n",
    "    query_docs = []\n",
    "    print(\"UPLOADING DIMENSION\", dim)\n",
    "    all_dim_prompts = list(db[f'core_prompts/{dim}'].find({}))\n",
    "    all_dim_samples = list(db[f'samples/{dim}'].find({}))\n",
    "    all_prefixes = list(db[f'prefixes'].find({}))\n",
    "    for prefix_doc in tqdm.tqdm(all_prefixes):\n",
    "        prefix_ind = prefix_doc['prefix_index']\n",
    "        if prefix_ind == 2 and dim in skip_prefix_severe:\n",
    "            continue\n",
    "        for prompt_doc in all_dim_prompts:\n",
    "            for sample_doc in all_dim_samples:\n",
    "                query_doc = {\n",
    "                    'prefix_index': prefix_doc['prefix_index'],\n",
    "                    'prompt_index': prompt_doc['prompt_index'],\n",
    "                    'sample_index': sample_doc['sample_index'],\n",
    "                    'dimension': dim,\n",
    "                    'latency': -1.0,\n",
    "                    'num_tries': 0,\n",
    "                    'rating': -1,\n",
    "                }\n",
    "                query_docs.append(query_doc)"
   ]
  },
  {
   "cell_type": "markdown",
   "metadata": {},
   "source": [
    "### output formatting (0 index initial)"
   ]
  },
  {
   "cell_type": "code",
   "execution_count": 76,
   "metadata": {},
   "outputs": [],
   "source": [
    "llm_to_index = {\n",
    "    'openchat/openchat_v3.1':0, \n",
    "    'OpenAssistant/llama2-13b-orca-8k-3319':1,\n",
    "    'baichuan-inc/Baichuan-13B-Base': 2,\n",
    "}\n",
    "llm_name = 'openchat/openchat_v3.1'\n",
    "dim = 'contrast'"
   ]
  },
  {
   "cell_type": "code",
   "execution_count": 56,
   "metadata": {},
   "outputs": [],
   "source": [
    "import numpy as np\n",
    "db = get_database()\n",
    "all_ratings_llm = pd.DataFrame(list(db[f'queries/{llm_name}/{dim}'].find({})))"
   ]
  },
  {
   "cell_type": "code",
   "execution_count": 57,
   "metadata": {},
   "outputs": [],
   "source": [
    "all_ratings_llm['llm_index'] = llm_to_index[llm_name]\n",
    "try:\n",
    "    all_ratings_llm = all_ratings_llm.drop(columns=['dim'])\n",
    "    all_ratings_llm = all_ratings_llm.drop(columns=['dimnsion'])\n",
    "except:\n",
    "    pass\n",
    "# combine prefix and prompt index into a single number\n",
    "all_ratings_llm = all_ratings_llm.assign(sample_index=lambda x: x.groupby(['sample_index']).ngroup())\n",
    "all_ratings_llm = all_ratings_llm.assign(item_index=lambda x: x.groupby(['prefix_index', 'prompt_index']).ngroup())\n",
    "# all_ratings_llm['rating'] = all_ratings_llm['rating'] + 1\n",
    "all_ratings_llm['rating'] = all_ratings_llm['rating'].replace(0, -1)    "
   ]
  },
  {
   "cell_type": "code",
   "execution_count": 58,
   "metadata": {},
   "outputs": [],
   "source": [
    "all_ratings_llm.to_csv(f'temp/contrast/{dim}_ratings_llm_{llm_to_index[llm_name]}.csv', index=False)"
   ]
  },
  {
   "cell_type": "markdown",
   "metadata": {},
   "source": [
    "### final output for calibration format"
   ]
  },
  {
   "cell_type": "code",
   "execution_count": 94,
   "metadata": {},
   "outputs": [
    {
     "data": {
      "image/png": "[encoded data removed]",
      "text/plain": [
       "<Figure size 640x480 with 1 Axes>"
      ]
     },
     "metadata": {},
     "output_type": "display_data"
    }
   ],
   "source": [
    "def add_index_range_series(series):\n",
    "    # get in the format of 0-100, 100-200, etc.\n",
    "    return series.min().astype(int).astype(str) + '-' + series.max().astype(int).astype(str)\n",
    "# all_ratings_llm = all_ratings_llm.drop(columns=['_id', 'prefix_index', 'prompt_index'])\n",
    "for llm_name in llm_to_index:\n",
    "    all_ratings_llm_formatted = pd.read_csv(f'temp/contrast/{dim}_ratings_llm_{llm_to_index[llm_name]}.csv')\n",
    "    all_ratings_llm_formatted = all_ratings_llm_formatted.drop(columns=['num_tries', 'latency'])\n",
    "    all_ratings_llm_formatted = all_ratings_llm_formatted.drop(columns=['_id', 'prefix_index', 'prompt_index'])\n",
    "    all_ratings_llm_formatted['item_index'] +=1\n",
    "    all_ratings_llm_formatted['llm_index'] +=1\n",
    "    all_ratings_llm_formatted['sample_index'] +=1\n",
    "    all_ratings_llm_formatted['rating'] = all_ratings_llm_formatted['rating'].astype(int).astype(str).replace('-1', '.')\n",
    "    all_ratings_llm_formatted['rating'].replace('.', '-1').astype(int).hist(bins=10)\n",
    "    all_ratings_llm_formatted = all_ratings_llm_formatted.sort_values('item_index')\\\n",
    "        .groupby(['sample_index', 'llm_index'])\\\n",
    "        .agg({'item_index': add_index_range_series, 'rating': list})\\\n",
    "        .reset_index()\n",
    "    s = all_ratings_llm_formatted['rating']\n",
    "    ratings_df = pd.DataFrame.from_dict(dict(zip(s.index, s.values))).T\n",
    "    all_ratings_llm_formatted = all_ratings_llm_formatted.drop(columns=['rating'])\n",
    "    all_ratings_llm_formatted = pd.concat([all_ratings_llm_formatted, ratings_df], axis=1)\n",
    "    all_ratings_llm_formatted.to_csv(f'temp/contrast/{dim}_ratings_llm_{llm_to_index[llm_name]}_formatted.csv', index=False, header=False)\n"
   ]
  }
 ],
 "metadata": {
  "kernelspec": {
   "display_name": "env",
   "language": "python",
   "name": "python3"
  },
  "language_info": {
   "codemirror_mode": {
    "name": "ipython",
    "version": 3
   },
   "file_extension": ".py",
   "mimetype": "text/x-python",
   "name": "python",
   "nbconvert_exporter": "python",
   "pygments_lexer": "ipython3",
   "version": "3.10.0"
  },
  "orig_nbformat": 4
 },
 "nbformat": 4,
 "nbformat_minor": 2
}
