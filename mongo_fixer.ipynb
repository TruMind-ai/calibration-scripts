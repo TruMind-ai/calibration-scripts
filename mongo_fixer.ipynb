{
 "cells": [
  {
   "cell_type": "code",
   "execution_count": 1,
   "metadata": {},
   "outputs": [
    {
     "name": "stderr",
     "output_type": "stream",
     "text": [
      "/Users/vaishakkrishna/Documents/XLNC_WORK/calibration-scripts/env/lib/python3.10/site-packages/tqdm/auto.py:21: TqdmWarning: IProgress not found. Please update jupyter and ipywidgets. See https://ipywidgets.readthedocs.io/en/stable/user_install.html\n",
      "  from .autonotebook import tqdm as notebook_tqdm\n",
      "None of PyTorch, TensorFlow >= 2.0, or Flax have been found. Models won't be available and only tokenizers, configuration and file/data utilities can be used.\n"
     ]
    }
   ],
   "source": [
    "from dotenv import load_dotenv\n",
    "load_dotenv('.env-db')\n",
    "from utils.utils import get_database\n",
    "from transformers import LlamaTokenizerFast\n",
    "tokenizer = LlamaTokenizerFast.from_pretrained('hf-internal-testing/llama-tokenizer')\n",
    "import pandas as pd\n",
    "def count_tokens(prompt):\n",
    "    return len(tokenizer.tokenize(prompt))"
   ]
  },
  {
   "cell_type": "markdown",
   "metadata": {},
   "source": []
  },
  {
   "cell_type": "code",
   "execution_count": 2,
   "metadata": {},
   "outputs": [
    {
     "data": {
      "text/plain": [
       "<pymongo.results.InsertManyResult at 0x28cee1f90>"
      ]
     },
     "execution_count": 2,
     "metadata": {},
     "output_type": "execute_result"
    }
   ],
   "source": [
    "db = get_database()\n",
    "# llm_name = 'baichuan-inc/Baichuan-13B-Base'\n",
    "dim = 'authority'\n",
    "llm_name = 'OpenAssistant/llama2-13b-orca-8k-3319'\n",
    "# all_ratings_llm = pd.DataFrame(list(db[f'queries/{llm_name}/{dim}'].find({})))\n",
    "# all_ratings_llm = pd.DataFrame(list(db[f'queries/{dim}/{llm_name}'].find({})))\n",
    "db[f'queries/{llm_name}/{dim}'].insert_many(list(db[f'queries/reference/{dim}'].find({})))\n"
   ]
  },
  {
   "cell_type": "code",
   "execution_count": 4,
   "metadata": {},
   "outputs": [
    {
     "ename": "OperationFailure",
     "evalue": "unknown top level operator: $latency. If you have a field name that starts with a '$' symbol, consider using $getField or $setField., full error: {'ok': 0.0, 'errmsg': \"unknown top level operator: $latency. If you have a field name that starts with a '$' symbol, consider using $getField or $setField.\", 'code': 2, 'codeName': 'BadValue', '$clusterTime': {'clusterTime': Timestamp(1692157378, 291), 'signature': {'hash': b'\\x12\\x19z\\xbc~&?mx[w\\x94Ga\\xb05\\xab\\xc1:W', 'keyId': 7267225423795191813}}, 'operationTime': Timestamp(1692157378, 291)}",
     "output_type": "error",
     "traceback": [
      "\u001b[0;31m---------------------------------------------------------------------------\u001b[0m",
      "\u001b[0;31mOperationFailure\u001b[0m                          Traceback (most recent call last)",
      "Cell \u001b[0;32mIn[4], line 1\u001b[0m\n\u001b[0;32m----> 1\u001b[0m all_queries \u001b[39m=\u001b[39m \u001b[39mlist\u001b[39;49m(db[\u001b[39mf\u001b[39;49m\u001b[39m'\u001b[39;49m\u001b[39mqueries/reference/\u001b[39;49m\u001b[39m{\u001b[39;49;00mdim\u001b[39m}\u001b[39;49;00m\u001b[39m'\u001b[39;49m]\u001b[39m.\u001b[39;49mfind({\u001b[39m\"\u001b[39;49m\u001b[39m$latency\u001b[39;49m\u001b[39m\"\u001b[39;49m: {\u001b[39m\"\u001b[39;49m\u001b[39m$gt\u001b[39;49m\u001b[39m\"\u001b[39;49m: \u001b[39m0\u001b[39;49m}}))\n\u001b[1;32m      2\u001b[0m \u001b[39m# db[f'queries/{llm_name}/{dim}'].insert_many(all_queries)\u001b[39;00m\n",
      "File \u001b[0;32m~/Documents/XLNC_WORK/calibration-scripts/env/lib/python3.10/site-packages/pymongo/cursor.py:1251\u001b[0m, in \u001b[0;36mCursor.next\u001b[0;34m(self)\u001b[0m\n\u001b[1;32m   1249\u001b[0m \u001b[39mif\u001b[39;00m \u001b[39mself\u001b[39m\u001b[39m.\u001b[39m__empty:\n\u001b[1;32m   1250\u001b[0m     \u001b[39mraise\u001b[39;00m \u001b[39mStopIteration\u001b[39;00m\n\u001b[0;32m-> 1251\u001b[0m \u001b[39mif\u001b[39;00m \u001b[39mlen\u001b[39m(\u001b[39mself\u001b[39m\u001b[39m.\u001b[39m__data) \u001b[39mor\u001b[39;00m \u001b[39mself\u001b[39;49m\u001b[39m.\u001b[39;49m_refresh():\n\u001b[1;32m   1252\u001b[0m     \u001b[39mreturn\u001b[39;00m \u001b[39mself\u001b[39m\u001b[39m.\u001b[39m__data\u001b[39m.\u001b[39mpopleft()\n\u001b[1;32m   1253\u001b[0m \u001b[39melse\u001b[39;00m:\n",
      "File \u001b[0;32m~/Documents/XLNC_WORK/calibration-scripts/env/lib/python3.10/site-packages/pymongo/cursor.py:1168\u001b[0m, in \u001b[0;36mCursor._refresh\u001b[0;34m(self)\u001b[0m\n\u001b[1;32m   1146\u001b[0m         \u001b[39mraise\u001b[39;00m InvalidOperation(\n\u001b[1;32m   1147\u001b[0m             \u001b[39m\"\u001b[39m\u001b[39mPassing a \u001b[39m\u001b[39m'\u001b[39m\u001b[39mhint\u001b[39m\u001b[39m'\u001b[39m\u001b[39m is required when using the min/max query\u001b[39m\u001b[39m\"\u001b[39m\n\u001b[1;32m   1148\u001b[0m             \u001b[39m\"\u001b[39m\u001b[39m option to ensure the query utilizes the correct index\u001b[39m\u001b[39m\"\u001b[39m\n\u001b[1;32m   1149\u001b[0m         )\n\u001b[1;32m   1150\u001b[0m     q \u001b[39m=\u001b[39m \u001b[39mself\u001b[39m\u001b[39m.\u001b[39m_query_class(\n\u001b[1;32m   1151\u001b[0m         \u001b[39mself\u001b[39m\u001b[39m.\u001b[39m__query_flags,\n\u001b[1;32m   1152\u001b[0m         \u001b[39mself\u001b[39m\u001b[39m.\u001b[39m__collection\u001b[39m.\u001b[39mdatabase\u001b[39m.\u001b[39mname,\n\u001b[0;32m   (...)\u001b[0m\n\u001b[1;32m   1166\u001b[0m         \u001b[39mself\u001b[39m\u001b[39m.\u001b[39m__exhaust,\n\u001b[1;32m   1167\u001b[0m     )\n\u001b[0;32m-> 1168\u001b[0m     \u001b[39mself\u001b[39;49m\u001b[39m.\u001b[39;49m__send_message(q)\n\u001b[1;32m   1169\u001b[0m \u001b[39melif\u001b[39;00m \u001b[39mself\u001b[39m\u001b[39m.\u001b[39m__id:  \u001b[39m# Get More\u001b[39;00m\n\u001b[1;32m   1170\u001b[0m     \u001b[39mif\u001b[39;00m \u001b[39mself\u001b[39m\u001b[39m.\u001b[39m__limit:\n",
      "File \u001b[0;32m~/Documents/XLNC_WORK/calibration-scripts/env/lib/python3.10/site-packages/pymongo/cursor.py:1055\u001b[0m, in \u001b[0;36mCursor.__send_message\u001b[0;34m(self, operation)\u001b[0m\n\u001b[1;32m   1052\u001b[0m     \u001b[39mraise\u001b[39;00m InvalidOperation(\u001b[39m\"\u001b[39m\u001b[39mexhaust cursors do not support auto encryption\u001b[39m\u001b[39m\"\u001b[39m)\n\u001b[1;32m   1054\u001b[0m \u001b[39mtry\u001b[39;00m:\n\u001b[0;32m-> 1055\u001b[0m     response \u001b[39m=\u001b[39m client\u001b[39m.\u001b[39;49m_run_operation(\n\u001b[1;32m   1056\u001b[0m         operation, \u001b[39mself\u001b[39;49m\u001b[39m.\u001b[39;49m_unpack_response, address\u001b[39m=\u001b[39;49m\u001b[39mself\u001b[39;49m\u001b[39m.\u001b[39;49m__address\n\u001b[1;32m   1057\u001b[0m     )\n\u001b[1;32m   1058\u001b[0m \u001b[39mexcept\u001b[39;00m OperationFailure \u001b[39mas\u001b[39;00m exc:\n\u001b[1;32m   1059\u001b[0m     \u001b[39mif\u001b[39;00m exc\u001b[39m.\u001b[39mcode \u001b[39min\u001b[39;00m _CURSOR_CLOSED_ERRORS \u001b[39mor\u001b[39;00m \u001b[39mself\u001b[39m\u001b[39m.\u001b[39m__exhaust:\n\u001b[1;32m   1060\u001b[0m         \u001b[39m# Don't send killCursors because the cursor is already closed.\u001b[39;00m\n",
      "File \u001b[0;32m~/Documents/XLNC_WORK/calibration-scripts/env/lib/python3.10/site-packages/pymongo/_csot.py:106\u001b[0m, in \u001b[0;36mapply.<locals>.csot_wrapper\u001b[0;34m(self, *args, **kwargs)\u001b[0m\n\u001b[1;32m    104\u001b[0m         \u001b[39mwith\u001b[39;00m _TimeoutContext(timeout):\n\u001b[1;32m    105\u001b[0m             \u001b[39mreturn\u001b[39;00m func(\u001b[39mself\u001b[39m, \u001b[39m*\u001b[39margs, \u001b[39m*\u001b[39m\u001b[39m*\u001b[39mkwargs)\n\u001b[0;32m--> 106\u001b[0m \u001b[39mreturn\u001b[39;00m func(\u001b[39mself\u001b[39;49m, \u001b[39m*\u001b[39;49margs, \u001b[39m*\u001b[39;49m\u001b[39m*\u001b[39;49mkwargs)\n",
      "File \u001b[0;32m~/Documents/XLNC_WORK/calibration-scripts/env/lib/python3.10/site-packages/pymongo/mongo_client.py:1341\u001b[0m, in \u001b[0;36mMongoClient._run_operation\u001b[0;34m(self, operation, unpack_res, address)\u001b[0m\n\u001b[1;32m   1336\u001b[0m     operation\u001b[39m.\u001b[39mreset()  \u001b[39m# Reset op in case of retry.\u001b[39;00m\n\u001b[1;32m   1337\u001b[0m     \u001b[39mreturn\u001b[39;00m server\u001b[39m.\u001b[39mrun_operation(\n\u001b[1;32m   1338\u001b[0m         sock_info, operation, read_preference, \u001b[39mself\u001b[39m\u001b[39m.\u001b[39m_event_listeners, unpack_res\n\u001b[1;32m   1339\u001b[0m     )\n\u001b[0;32m-> 1341\u001b[0m \u001b[39mreturn\u001b[39;00m \u001b[39mself\u001b[39;49m\u001b[39m.\u001b[39;49m_retryable_read(\n\u001b[1;32m   1342\u001b[0m     _cmd,\n\u001b[1;32m   1343\u001b[0m     operation\u001b[39m.\u001b[39;49mread_preference,\n\u001b[1;32m   1344\u001b[0m     operation\u001b[39m.\u001b[39;49msession,\n\u001b[1;32m   1345\u001b[0m     address\u001b[39m=\u001b[39;49maddress,\n\u001b[1;32m   1346\u001b[0m     retryable\u001b[39m=\u001b[39;49m\u001b[39misinstance\u001b[39;49m(operation, message\u001b[39m.\u001b[39;49m_Query),\n\u001b[1;32m   1347\u001b[0m )\n",
      "File \u001b[0;32m~/Documents/XLNC_WORK/calibration-scripts/env/lib/python3.10/site-packages/pymongo/_csot.py:106\u001b[0m, in \u001b[0;36mapply.<locals>.csot_wrapper\u001b[0;34m(self, *args, **kwargs)\u001b[0m\n\u001b[1;32m    104\u001b[0m         \u001b[39mwith\u001b[39;00m _TimeoutContext(timeout):\n\u001b[1;32m    105\u001b[0m             \u001b[39mreturn\u001b[39;00m func(\u001b[39mself\u001b[39m, \u001b[39m*\u001b[39margs, \u001b[39m*\u001b[39m\u001b[39m*\u001b[39mkwargs)\n\u001b[0;32m--> 106\u001b[0m \u001b[39mreturn\u001b[39;00m func(\u001b[39mself\u001b[39;49m, \u001b[39m*\u001b[39;49margs, \u001b[39m*\u001b[39;49m\u001b[39m*\u001b[39;49mkwargs)\n",
      "File \u001b[0;32m~/Documents/XLNC_WORK/calibration-scripts/env/lib/python3.10/site-packages/pymongo/mongo_client.py:1465\u001b[0m, in \u001b[0;36mMongoClient._retryable_read\u001b[0;34m(self, func, read_pref, session, address, retryable)\u001b[0m\n\u001b[1;32m   1463\u001b[0m             \u001b[39massert\u001b[39;00m last_error \u001b[39mis\u001b[39;00m \u001b[39mnot\u001b[39;00m \u001b[39mNone\u001b[39;00m\n\u001b[1;32m   1464\u001b[0m             \u001b[39mraise\u001b[39;00m last_error\n\u001b[0;32m-> 1465\u001b[0m         \u001b[39mreturn\u001b[39;00m func(session, server, sock_info, read_pref)\n\u001b[1;32m   1466\u001b[0m \u001b[39mexcept\u001b[39;00m ServerSelectionTimeoutError:\n\u001b[1;32m   1467\u001b[0m     \u001b[39mif\u001b[39;00m retrying:\n\u001b[1;32m   1468\u001b[0m         \u001b[39m# The application may think the write was never attempted\u001b[39;00m\n\u001b[1;32m   1469\u001b[0m         \u001b[39m# if we raise ServerSelectionTimeoutError on the retry\u001b[39;00m\n\u001b[1;32m   1470\u001b[0m         \u001b[39m# attempt. Raise the original exception instead.\u001b[39;00m\n",
      "File \u001b[0;32m~/Documents/XLNC_WORK/calibration-scripts/env/lib/python3.10/site-packages/pymongo/mongo_client.py:1337\u001b[0m, in \u001b[0;36mMongoClient._run_operation.<locals>._cmd\u001b[0;34m(session, server, sock_info, read_preference)\u001b[0m\n\u001b[1;32m   1335\u001b[0m \u001b[39mdef\u001b[39;00m \u001b[39m_cmd\u001b[39m(session, server, sock_info, read_preference):\n\u001b[1;32m   1336\u001b[0m     operation\u001b[39m.\u001b[39mreset()  \u001b[39m# Reset op in case of retry.\u001b[39;00m\n\u001b[0;32m-> 1337\u001b[0m     \u001b[39mreturn\u001b[39;00m server\u001b[39m.\u001b[39;49mrun_operation(\n\u001b[1;32m   1338\u001b[0m         sock_info, operation, read_preference, \u001b[39mself\u001b[39;49m\u001b[39m.\u001b[39;49m_event_listeners, unpack_res\n\u001b[1;32m   1339\u001b[0m     )\n",
      "File \u001b[0;32m~/Documents/XLNC_WORK/calibration-scripts/env/lib/python3.10/site-packages/pymongo/helpers.py:279\u001b[0m, in \u001b[0;36m_handle_reauth.<locals>.inner\u001b[0;34m(*args, **kwargs)\u001b[0m\n\u001b[1;32m    276\u001b[0m \u001b[39mfrom\u001b[39;00m \u001b[39mpymongo\u001b[39;00m\u001b[39m.\u001b[39;00m\u001b[39mpool\u001b[39;00m \u001b[39mimport\u001b[39;00m SocketInfo\n\u001b[1;32m    278\u001b[0m \u001b[39mtry\u001b[39;00m:\n\u001b[0;32m--> 279\u001b[0m     \u001b[39mreturn\u001b[39;00m func(\u001b[39m*\u001b[39;49margs, \u001b[39m*\u001b[39;49m\u001b[39m*\u001b[39;49mkwargs)\n\u001b[1;32m    280\u001b[0m \u001b[39mexcept\u001b[39;00m OperationFailure \u001b[39mas\u001b[39;00m exc:\n\u001b[1;32m    281\u001b[0m     \u001b[39mif\u001b[39;00m no_reauth:\n",
      "File \u001b[0;32m~/Documents/XLNC_WORK/calibration-scripts/env/lib/python3.10/site-packages/pymongo/server.py:135\u001b[0m, in \u001b[0;36mServer.run_operation\u001b[0;34m(self, sock_info, operation, read_preference, listeners, unpack_res)\u001b[0m\n\u001b[1;32m    133\u001b[0m         first \u001b[39m=\u001b[39m docs[\u001b[39m0\u001b[39m]\n\u001b[1;32m    134\u001b[0m         operation\u001b[39m.\u001b[39mclient\u001b[39m.\u001b[39m_process_response(first, operation\u001b[39m.\u001b[39msession)\n\u001b[0;32m--> 135\u001b[0m         _check_command_response(first, sock_info\u001b[39m.\u001b[39;49mmax_wire_version)\n\u001b[1;32m    136\u001b[0m \u001b[39mexcept\u001b[39;00m \u001b[39mException\u001b[39;00m \u001b[39mas\u001b[39;00m exc:\n\u001b[1;32m    137\u001b[0m     \u001b[39mif\u001b[39;00m publish:\n",
      "File \u001b[0;32m~/Documents/XLNC_WORK/calibration-scripts/env/lib/python3.10/site-packages/pymongo/helpers.py:194\u001b[0m, in \u001b[0;36m_check_command_response\u001b[0;34m(response, max_wire_version, allowable_errors, parse_write_concern_error)\u001b[0m\n\u001b[1;32m    191\u001b[0m \u001b[39melif\u001b[39;00m code \u001b[39m==\u001b[39m \u001b[39m43\u001b[39m:\n\u001b[1;32m    192\u001b[0m     \u001b[39mraise\u001b[39;00m CursorNotFound(errmsg, code, response, max_wire_version)\n\u001b[0;32m--> 194\u001b[0m \u001b[39mraise\u001b[39;00m OperationFailure(errmsg, code, response, max_wire_version)\n",
      "\u001b[0;31mOperationFailure\u001b[0m: unknown top level operator: $latency. If you have a field name that starts with a '$' symbol, consider using $getField or $setField., full error: {'ok': 0.0, 'errmsg': \"unknown top level operator: $latency. If you have a field name that starts with a '$' symbol, consider using $getField or $setField.\", 'code': 2, 'codeName': 'BadValue', '$clusterTime': {'clusterTime': Timestamp(1692157378, 291), 'signature': {'hash': b'\\x12\\x19z\\xbc~&?mx[w\\x94Ga\\xb05\\xab\\xc1:W', 'keyId': 7267225423795191813}}, 'operationTime': Timestamp(1692157378, 291)}"
     ]
    }
   ],
   "source": [
    "# all_queries = list(db[f'queries/reference/{dim}'].find({\"$latency\": {\"$gt\": 0}}))\n",
    "# db[f'queries/{llm_name}/{dim}'].insert_many(all_queries)"
   ]
  },
  {
   "cell_type": "code",
   "execution_count": 21,
   "metadata": {},
   "outputs": [
    {
     "data": {
      "text/plain": [
       "411336"
      ]
     },
     "execution_count": 21,
     "metadata": {},
     "output_type": "execute_result"
    }
   ],
   "source": [
    "len(all_queries)"
   ]
  },
  {
   "cell_type": "code",
   "execution_count": 22,
   "metadata": {},
   "outputs": [
    {
     "data": {
      "text/plain": [
       "<pymongo.results.InsertManyResult at 0x17f0fdae0>"
      ]
     },
     "execution_count": 22,
     "metadata": {},
     "output_type": "execute_result"
    }
   ],
   "source": [
    "db[f'queries/{llm_name}/{dim}'].insert_many(all_queries)"
   ]
  },
  {
   "cell_type": "code",
   "execution_count": 8,
   "metadata": {},
   "outputs": [
    {
     "name": "stdout",
     "output_type": "stream",
     "text": [
      "Average latency: 0.32800720199845884\n"
     ]
    },
    {
     "data": {
      "image/png": "[encoded data removed]",
      "text/plain": [
       "<Figure size 640x480 with 1 Axes>"
      ]
     },
     "metadata": {},
     "output_type": "display_data"
    }
   ],
   "source": [
    "# get average latency\n",
    "latencies = list(db[f'queries/{llm_name}/{dim}'].find({\"latency\":{\"$gt\":0}}))\n",
    "latencies = pd.DataFrame(latencies)\n",
    "latencies['latency'].hist(bins=100)\n",
    "print(f\"Average latency: {sum(latencies['latency'])/len(latencies['latency'])}\")"
   ]
  },
  {
   "cell_type": "code",
   "execution_count": 9,
   "metadata": {},
   "outputs": [
    {
     "data": {
      "text/plain": [
       "<Axes: >"
      ]
     },
     "execution_count": 9,
     "metadata": {},
     "output_type": "execute_result"
    },
    {
     "data": {
      "image/png": "[encoded data removed]",
      "text/plain": [
       "<Figure size 640x480 with 1 Axes>"
      ]
     },
     "metadata": {},
     "output_type": "display_data"
    }
   ],
   "source": [
    "latencies['rating'].hist(bins=100)"
   ]
  },
  {
   "cell_type": "code",
   "execution_count": null,
   "metadata": {},
   "outputs": [],
   "source": [
    "# import tqdm\n",
    "# # display dist. of prompt lengths\n",
    "# dim = 'contrast'\n",
    "# prefixes = {prefix['prefix_index']:prefix for prefix in list(db['prefixes'].find({}))}\n",
    "# prompts = {prompt['prompt_index']:prompt for prompt in list(db[f'core_prompts/{dim}'].find({}))}\n",
    "# samples = {sample['sample_index']:sample for sample in list(db[f'samples/{dim}'].find({}))}\n",
    "# tokens_dist = []\n",
    "# prefix = max(prefixes.values(), key=lambda x : len(x['prefix']))\n",
    "# for prompt in tqdm.tqdm(prompts):\n",
    "#     for sample in samples:\n",
    "#         t = count_tokens(prefix['prefix'] + prompts[prompt]['combined_prompt'] + samples[sample]['sample'])\n",
    "#         tokens_dist.append(t)\n",
    "# pd.Series(tokens_dist).hist(bins=100)"
   ]
  },
  {
   "cell_type": "code",
   "execution_count": 13,
   "metadata": {},
   "outputs": [
    {
     "name": "stdout",
     "output_type": "stream",
     "text": [
      "UPLOADING DIMENSION authority\n"
     ]
    },
    {
     "name": "stderr",
     "output_type": "stream",
     "text": [
      "100%|██████████| 6/6 [00:00<00:00, 35.62it/s]\n"
     ]
    }
   ],
   "source": [
    "import tqdm\n",
    "skip_prefix_severe = ['reciprocity', 'unity', 'scarcity']\n",
    "for dim in ['authority']:\n",
    "    query_docs = []\n",
    "    print(\"UPLOADING DIMENSION\", dim)\n",
    "    all_dim_prompts = list(db[f'core_prompts/{dim}'].find({}))\n",
    "    all_dim_samples = list(db[f'samples/{dim}'].find({}))\n",
    "    all_prefixes = list(db[f'prefixes'].find({}))\n",
    "    for prefix_doc in tqdm.tqdm(all_prefixes):\n",
    "        prefix_ind = prefix_doc['prefix_index']\n",
    "        if prefix_ind == 2 and dim in skip_prefix_severe:\n",
    "            continue\n",
    "        for prompt_doc in all_dim_prompts:\n",
    "            for sample_doc in all_dim_samples:\n",
    "                query_doc = {\n",
    "                    'prefix_index': prefix_doc['prefix_index'],\n",
    "                    'prompt_index': prompt_doc['prompt_index'],\n",
    "                    'sample_index': sample_doc['sample_index'],\n",
    "                    'dimension': dim,\n",
    "                    'latency': -1.0,\n",
    "                    'num_tries': 0,\n",
    "                    'rating': -1,\n",
    "                }\n",
    "                query_docs.append(query_doc)"
   ]
  },
  {
   "cell_type": "code",
   "execution_count": null,
   "metadata": {},
   "outputs": [],
   "source": [
    "db"
   ]
  }
 ],
 "metadata": {
  "kernelspec": {
   "display_name": "env",
   "language": "python",
   "name": "python3"
  },
  "language_info": {
   "codemirror_mode": {
    "name": "ipython",
    "version": 3
   },
   "file_extension": ".py",
   "mimetype": "text/x-python",
   "name": "python",
   "nbconvert_exporter": "python",
   "pygments_lexer": "ipython3",
   "version": "3.10.0"
  },
  "orig_nbformat": 4
 },
 "nbformat": 4,
 "nbformat_minor": 2
}
