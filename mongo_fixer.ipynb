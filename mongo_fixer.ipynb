{
 "cells": [
  {
   "cell_type": "code",
   "execution_count": 3,
   "metadata": {},
   "outputs": [
    {
     "name": "stderr",
     "output_type": "stream",
     "text": [
      "Downloading (…)okenizer_config.json: 100%|██████████| 700/700 [00:00<00:00, 1.11MB/s]\n",
      "Downloading tokenizer.model: 100%|██████████| 500k/500k [00:00<00:00, 10.3MB/s]\n",
      "Downloading (…)/main/tokenizer.json: 100%|██████████| 1.84M/1.84M [00:00<00:00, 10.2MB/s]\n",
      "Downloading (…)cial_tokens_map.json: 100%|██████████| 411/411 [00:00<00:00, 2.20MB/s]\n"
     ]
    }
   ],
   "source": [
    "from run_calibrations import get_database\n",
    "from dotenv import load_dotenv\n",
    "load_dotenv('.env-db')\n",
    "from transformers import LlamaTokenizerFast\n",
    "tokenizer = LlamaTokenizerFast.from_pretrained('hf-internal-testing/llama-tokenizer')\n",
    "def count_tokens(prompt):\n",
    "    return len(tokenizer.tokenize(prompt))"
   ]
  },
  {
   "cell_type": "code",
   "execution_count": 16,
   "metadata": {},
   "outputs": [],
   "source": [
    "db = get_database()"
   ]
  },
  {
   "cell_type": "code",
   "execution_count": 29,
   "metadata": {},
   "outputs": [
    {
     "name": "stdout",
     "output_type": "stream",
     "text": [
      "Average latency: 0.3629837820561454\n"
     ]
    }
   ],
   "source": [
    "# reset hanging ratings\n",
    "coll_name = 'queries/contrast/openchat/openchat_v3.1'\n",
    "# db[coll_name].update_many({'rating':0}, {'$set':{'rating':-1}})\n",
    "# get average latency\n",
    "latencies = list(db[coll_name].find({\"latency\":{\"$gt\":0}}))\n",
    "latencies = [latency['latency'] for latency in latencies]\n",
    "print(f\"Average latency: {sum(latencies)/len(latencies)}\")\n"
   ]
  },
  {
   "cell_type": "code",
   "execution_count": 12,
   "metadata": {},
   "outputs": [
    {
     "name": "stderr",
     "output_type": "stream",
     "text": [
      "100%|██████████| 116/116 [05:58<00:00,  3.09s/it]\n"
     ]
    }
   ],
   "source": [
    "import tqdm\n",
    "# display dist. of prompt lengths\n",
    "dim = 'contrast'\n",
    "prefixes = {prefix['prefix_index']:prefix for prefix in list(db['prefixes'].find({}))}\n",
    "prompts = {prompt['prompt_index']:prompt for prompt in list(db[f'core_prompts/{dim}'].find({}))}\n",
    "samples = {sample['sample_index']:sample for sample in list(db[f'samples/{dim}'].find({}))}\n",
    "tokens_dist = []\n",
    "prefix = max(prefixes.values(), key=lambda x : len(x['prefix']))\n",
    "for prompt in tqdm.tqdm(prompts):\n",
    "    for sample in samples:\n",
    "        t = count_tokens(prefix['prefix'] + prompts[prompt]['combined_prompt'] + samples[sample]['sample'])\n",
    "        tokens_dist.append(t)"
   ]
  },
  {
   "cell_type": "code",
   "execution_count": 15,
   "metadata": {},
   "outputs": [
    {
     "data": {
      "text/plain": [
       "<Axes: >"
      ]
     },
     "execution_count": 15,
     "metadata": {},
     "output_type": "execute_result"
    },
    {
     "data": {
      "image/png": "[encoded data removed]",
      "text/plain": [
       "<Figure size 640x480 with 1 Axes>"
      ]
     },
     "metadata": {},
     "output_type": "display_data"
    }
   ],
   "source": [
    "import pandas as pd\n",
    "pd.Series(tokens_dist).hist(bins=100)"
   ]
  },
  {
   "cell_type": "code",
   "execution_count": null,
   "metadata": {},
   "outputs": [],
   "source": []
  }
 ],
 "metadata": {
  "kernelspec": {
   "display_name": "env",
   "language": "python",
   "name": "python3"
  },
  "language_info": {
   "codemirror_mode": {
    "name": "ipython",
    "version": 3
   },
   "file_extension": ".py",
   "mimetype": "text/x-python",
   "name": "python",
   "nbconvert_exporter": "python",
   "pygments_lexer": "ipython3",
   "version": "3.10.0"
  },
  "orig_nbformat": 4
 },
 "nbformat": 4,
 "nbformat_minor": 2
}
