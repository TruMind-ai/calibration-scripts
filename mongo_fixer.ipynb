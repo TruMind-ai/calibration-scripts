{
 "cells": [
  {
   "cell_type": "code",
   "execution_count": null,
   "metadata": {},
   "outputs": [],
   "source": [
    "from run_calibrations import get_database\n",
    "from dotenv import load_dotenv\n",
    "load_dotenv('.env-db')\n",
    "from transformers import LlamaTokenizerFast\n",
    "tokenizer = LlamaTokenizerFast.from_pretrained('hf-internal-testing/llama-tokenizer')\n",
    "import pandas as pd\n",
    "def count_tokens(prompt):\n",
    "    return len(tokenizer.tokenize(prompt))"
   ]
  },
  {
   "cell_type": "code",
   "execution_count": 44,
   "metadata": {},
   "outputs": [],
   "source": [
    "db = get_database()\n",
    "coll_name = 'queries/contrast/openchat/openchat_v3.1'\n",
    "coll = db[coll_name]"
   ]
  },
  {
   "cell_type": "code",
   "execution_count": null,
   "metadata": {},
   "outputs": [],
   "source": [
    "q_set = set()"
   ]
  },
  {
   "cell_type": "code",
   "execution_count": 29,
   "metadata": {},
   "outputs": [
    {
     "name": "stderr",
     "output_type": "stream",
     "text": [
      "  2%|▏         | 8639/404748 [08:02<6:08:22, 17.92it/s] \n"
     ]
    },
    {
     "ename": "KeyboardInterrupt",
     "evalue": "",
     "output_type": "error",
     "traceback": [
      "\u001b[0;31m---------------------------------------------------------------------------\u001b[0m",
      "\u001b[0;31mKeyboardInterrupt\u001b[0m                         Traceback (most recent call last)",
      "Cell \u001b[0;32mIn[29], line 7\u001b[0m\n\u001b[1;32m      5\u001b[0m q_ind \u001b[39m=\u001b[39m \u001b[39mf\u001b[39m\u001b[39m\"\u001b[39m\u001b[39mp\u001b[39m\u001b[39m{\u001b[39;00mq[\u001b[39m'\u001b[39m\u001b[39mprefix_index\u001b[39m\u001b[39m'\u001b[39m]\u001b[39m}\u001b[39;00m\u001b[39mo\u001b[39m\u001b[39m{\u001b[39;00mq[\u001b[39m'\u001b[39m\u001b[39mprompt_index\u001b[39m\u001b[39m'\u001b[39m]\u001b[39m}\u001b[39;00m\u001b[39ms\u001b[39m\u001b[39m{\u001b[39;00mq[\u001b[39m'\u001b[39m\u001b[39msample_index\u001b[39m\u001b[39m'\u001b[39m]\u001b[39m}\u001b[39;00m\u001b[39m\"\u001b[39m\n\u001b[1;32m      6\u001b[0m q_set\u001b[39m.\u001b[39madd(q_ind)\n\u001b[0;32m----> 7\u001b[0m coll\u001b[39m.\u001b[39;49mupdate_one({\u001b[39m'\u001b[39;49m\u001b[39m_id\u001b[39;49m\u001b[39m'\u001b[39;49m: q[\u001b[39m'\u001b[39;49m\u001b[39m_id\u001b[39;49m\u001b[39m'\u001b[39;49m]}, {\u001b[39m'\u001b[39;49m\u001b[39m$set\u001b[39;49m\u001b[39m'\u001b[39;49m: {\u001b[39m'\u001b[39;49m\u001b[39mquery_index\u001b[39;49m\u001b[39m'\u001b[39;49m: q_ind}})\n",
      "File \u001b[0;32m~/Documents/XLNC_WORK/calibration-scripts/env/lib/python3.10/site-packages/pymongo/collection.py:1052\u001b[0m, in \u001b[0;36mCollection.update_one\u001b[0;34m(self, filter, update, upsert, bypass_document_validation, collation, array_filters, hint, session, let, comment)\u001b[0m\n\u001b[1;32m   1048\u001b[0m common\u001b[39m.\u001b[39mvalidate_list_or_none(\u001b[39m\"\u001b[39m\u001b[39marray_filters\u001b[39m\u001b[39m\"\u001b[39m, array_filters)\n\u001b[1;32m   1050\u001b[0m write_concern \u001b[39m=\u001b[39m \u001b[39mself\u001b[39m\u001b[39m.\u001b[39m_write_concern_for(session)\n\u001b[1;32m   1051\u001b[0m \u001b[39mreturn\u001b[39;00m UpdateResult(\n\u001b[0;32m-> 1052\u001b[0m     \u001b[39mself\u001b[39;49m\u001b[39m.\u001b[39;49m_update_retryable(\n\u001b[1;32m   1053\u001b[0m         \u001b[39mfilter\u001b[39;49m,\n\u001b[1;32m   1054\u001b[0m         update,\n\u001b[1;32m   1055\u001b[0m         upsert,\n\u001b[1;32m   1056\u001b[0m         write_concern\u001b[39m=\u001b[39;49mwrite_concern,\n\u001b[1;32m   1057\u001b[0m         bypass_doc_val\u001b[39m=\u001b[39;49mbypass_document_validation,\n\u001b[1;32m   1058\u001b[0m         collation\u001b[39m=\u001b[39;49mcollation,\n\u001b[1;32m   1059\u001b[0m         array_filters\u001b[39m=\u001b[39;49marray_filters,\n\u001b[1;32m   1060\u001b[0m         hint\u001b[39m=\u001b[39;49mhint,\n\u001b[1;32m   1061\u001b[0m         session\u001b[39m=\u001b[39;49msession,\n\u001b[1;32m   1062\u001b[0m         let\u001b[39m=\u001b[39;49mlet,\n\u001b[1;32m   1063\u001b[0m         comment\u001b[39m=\u001b[39;49mcomment,\n\u001b[1;32m   1064\u001b[0m     ),\n\u001b[1;32m   1065\u001b[0m     write_concern\u001b[39m.\u001b[39macknowledged,\n\u001b[1;32m   1066\u001b[0m )\n",
      "File \u001b[0;32m~/Documents/XLNC_WORK/calibration-scripts/env/lib/python3.10/site-packages/pymongo/collection.py:847\u001b[0m, in \u001b[0;36mCollection._update_retryable\u001b[0;34m(self, criteria, document, upsert, multi, write_concern, op_id, ordered, bypass_doc_val, collation, array_filters, hint, session, let, comment)\u001b[0m\n\u001b[1;32m    827\u001b[0m \u001b[39mdef\u001b[39;00m \u001b[39m_update\u001b[39m(session, sock_info, retryable_write):\n\u001b[1;32m    828\u001b[0m     \u001b[39mreturn\u001b[39;00m \u001b[39mself\u001b[39m\u001b[39m.\u001b[39m_update(\n\u001b[1;32m    829\u001b[0m         sock_info,\n\u001b[1;32m    830\u001b[0m         criteria,\n\u001b[0;32m   (...)\u001b[0m\n\u001b[1;32m    844\u001b[0m         comment\u001b[39m=\u001b[39mcomment,\n\u001b[1;32m    845\u001b[0m     )\n\u001b[0;32m--> 847\u001b[0m \u001b[39mreturn\u001b[39;00m \u001b[39mself\u001b[39;49m\u001b[39m.\u001b[39;49m__database\u001b[39m.\u001b[39;49mclient\u001b[39m.\u001b[39;49m_retryable_write(\n\u001b[1;32m    848\u001b[0m     (write_concern \u001b[39mor\u001b[39;49;00m \u001b[39mself\u001b[39;49m\u001b[39m.\u001b[39;49mwrite_concern)\u001b[39m.\u001b[39;49macknowledged \u001b[39mand\u001b[39;49;00m \u001b[39mnot\u001b[39;49;00m multi, _update, session\n\u001b[1;32m    849\u001b[0m )\n",
      "File \u001b[0;32m~/Documents/XLNC_WORK/calibration-scripts/env/lib/python3.10/site-packages/pymongo/mongo_client.py:1493\u001b[0m, in \u001b[0;36mMongoClient._retryable_write\u001b[0;34m(self, retryable, func, session)\u001b[0m\n\u001b[1;32m   1491\u001b[0m \u001b[39m\u001b[39m\u001b[39m\"\"\"Internal retryable write helper.\"\"\"\u001b[39;00m\n\u001b[1;32m   1492\u001b[0m \u001b[39mwith\u001b[39;00m \u001b[39mself\u001b[39m\u001b[39m.\u001b[39m_tmp_session(session) \u001b[39mas\u001b[39;00m s:\n\u001b[0;32m-> 1493\u001b[0m     \u001b[39mreturn\u001b[39;00m \u001b[39mself\u001b[39;49m\u001b[39m.\u001b[39;49m_retry_with_session(retryable, func, s, \u001b[39mNone\u001b[39;49;00m)\n",
      "File \u001b[0;32m~/Documents/XLNC_WORK/calibration-scripts/env/lib/python3.10/site-packages/pymongo/mongo_client.py:1360\u001b[0m, in \u001b[0;36mMongoClient._retry_with_session\u001b[0;34m(self, retryable, func, session, bulk)\u001b[0m\n\u001b[1;32m   1350\u001b[0m \u001b[39m\u001b[39m\u001b[39m\"\"\"Execute an operation with at most one consecutive retries\u001b[39;00m\n\u001b[1;32m   1351\u001b[0m \n\u001b[1;32m   1352\u001b[0m \u001b[39mReturns func()'s return value on success. On error retries the same\u001b[39;00m\n\u001b[0;32m   (...)\u001b[0m\n\u001b[1;32m   1355\u001b[0m \u001b[39mRe-raises any exception thrown by func().\u001b[39;00m\n\u001b[1;32m   1356\u001b[0m \u001b[39m\"\"\"\u001b[39;00m\n\u001b[1;32m   1357\u001b[0m retryable \u001b[39m=\u001b[39m (\n\u001b[1;32m   1358\u001b[0m     retryable \u001b[39mand\u001b[39;00m \u001b[39mself\u001b[39m\u001b[39m.\u001b[39moptions\u001b[39m.\u001b[39mretry_writes \u001b[39mand\u001b[39;00m session \u001b[39mand\u001b[39;00m \u001b[39mnot\u001b[39;00m session\u001b[39m.\u001b[39min_transaction\n\u001b[1;32m   1359\u001b[0m )\n\u001b[0;32m-> 1360\u001b[0m \u001b[39mreturn\u001b[39;00m \u001b[39mself\u001b[39;49m\u001b[39m.\u001b[39;49m_retry_internal(retryable, func, session, bulk)\n",
      "File \u001b[0;32m~/Documents/XLNC_WORK/calibration-scripts/env/lib/python3.10/site-packages/pymongo/_csot.py:106\u001b[0m, in \u001b[0;36mapply.<locals>.csot_wrapper\u001b[0;34m(self, *args, **kwargs)\u001b[0m\n\u001b[1;32m    104\u001b[0m         \u001b[39mwith\u001b[39;00m _TimeoutContext(timeout):\n\u001b[1;32m    105\u001b[0m             \u001b[39mreturn\u001b[39;00m func(\u001b[39mself\u001b[39m, \u001b[39m*\u001b[39margs, \u001b[39m*\u001b[39m\u001b[39m*\u001b[39mkwargs)\n\u001b[0;32m--> 106\u001b[0m \u001b[39mreturn\u001b[39;00m func(\u001b[39mself\u001b[39;49m, \u001b[39m*\u001b[39;49margs, \u001b[39m*\u001b[39;49m\u001b[39m*\u001b[39;49mkwargs)\n",
      "File \u001b[0;32m~/Documents/XLNC_WORK/calibration-scripts/env/lib/python3.10/site-packages/pymongo/mongo_client.py:1401\u001b[0m, in \u001b[0;36mMongoClient._retry_internal\u001b[0;34m(self, retryable, func, session, bulk)\u001b[0m\n\u001b[1;32m   1399\u001b[0m                 \u001b[39mraise\u001b[39;00m last_error\n\u001b[1;32m   1400\u001b[0m             retryable \u001b[39m=\u001b[39m \u001b[39mFalse\u001b[39;00m\n\u001b[0;32m-> 1401\u001b[0m         \u001b[39mreturn\u001b[39;00m func(session, sock_info, retryable)\n\u001b[1;32m   1402\u001b[0m \u001b[39mexcept\u001b[39;00m ServerSelectionTimeoutError:\n\u001b[1;32m   1403\u001b[0m     \u001b[39mif\u001b[39;00m is_retrying():\n\u001b[1;32m   1404\u001b[0m         \u001b[39m# The application may think the write was never attempted\u001b[39;00m\n\u001b[1;32m   1405\u001b[0m         \u001b[39m# if we raise ServerSelectionTimeoutError on the retry\u001b[39;00m\n\u001b[1;32m   1406\u001b[0m         \u001b[39m# attempt. Raise the original exception instead.\u001b[39;00m\n",
      "File \u001b[0;32m~/Documents/XLNC_WORK/calibration-scripts/env/lib/python3.10/site-packages/pymongo/collection.py:828\u001b[0m, in \u001b[0;36mCollection._update_retryable.<locals>._update\u001b[0;34m(session, sock_info, retryable_write)\u001b[0m\n\u001b[1;32m    827\u001b[0m \u001b[39mdef\u001b[39;00m \u001b[39m_update\u001b[39m(session, sock_info, retryable_write):\n\u001b[0;32m--> 828\u001b[0m     \u001b[39mreturn\u001b[39;00m \u001b[39mself\u001b[39;49m\u001b[39m.\u001b[39;49m_update(\n\u001b[1;32m    829\u001b[0m         sock_info,\n\u001b[1;32m    830\u001b[0m         criteria,\n\u001b[1;32m    831\u001b[0m         document,\n\u001b[1;32m    832\u001b[0m         upsert\u001b[39m=\u001b[39;49mupsert,\n\u001b[1;32m    833\u001b[0m         multi\u001b[39m=\u001b[39;49mmulti,\n\u001b[1;32m    834\u001b[0m         write_concern\u001b[39m=\u001b[39;49mwrite_concern,\n\u001b[1;32m    835\u001b[0m         op_id\u001b[39m=\u001b[39;49mop_id,\n\u001b[1;32m    836\u001b[0m         ordered\u001b[39m=\u001b[39;49mordered,\n\u001b[1;32m    837\u001b[0m         bypass_doc_val\u001b[39m=\u001b[39;49mbypass_doc_val,\n\u001b[1;32m    838\u001b[0m         collation\u001b[39m=\u001b[39;49mcollation,\n\u001b[1;32m    839\u001b[0m         array_filters\u001b[39m=\u001b[39;49marray_filters,\n\u001b[1;32m    840\u001b[0m         hint\u001b[39m=\u001b[39;49mhint,\n\u001b[1;32m    841\u001b[0m         session\u001b[39m=\u001b[39;49msession,\n\u001b[1;32m    842\u001b[0m         retryable_write\u001b[39m=\u001b[39;49mretryable_write,\n\u001b[1;32m    843\u001b[0m         let\u001b[39m=\u001b[39;49mlet,\n\u001b[1;32m    844\u001b[0m         comment\u001b[39m=\u001b[39;49mcomment,\n\u001b[1;32m    845\u001b[0m     )\n",
      "File \u001b[0;32m~/Documents/XLNC_WORK/calibration-scripts/env/lib/python3.10/site-packages/pymongo/collection.py:784\u001b[0m, in \u001b[0;36mCollection._update\u001b[0;34m(self, sock_info, criteria, document, upsert, multi, write_concern, op_id, ordered, bypass_doc_val, collation, array_filters, hint, session, retryable_write, let, comment)\u001b[0m\n\u001b[1;32m    780\u001b[0m     command[\u001b[39m\"\u001b[39m\u001b[39mbypassDocumentValidation\u001b[39m\u001b[39m\"\u001b[39m] \u001b[39m=\u001b[39m \u001b[39mTrue\u001b[39;00m\n\u001b[1;32m    782\u001b[0m \u001b[39m# The command result has to be published for APM unmodified\u001b[39;00m\n\u001b[1;32m    783\u001b[0m \u001b[39m# so we make a shallow copy here before adding updatedExisting.\u001b[39;00m\n\u001b[0;32m--> 784\u001b[0m result \u001b[39m=\u001b[39m sock_info\u001b[39m.\u001b[39;49mcommand(\n\u001b[1;32m    785\u001b[0m     \u001b[39mself\u001b[39;49m\u001b[39m.\u001b[39;49m__database\u001b[39m.\u001b[39;49mname,\n\u001b[1;32m    786\u001b[0m     command,\n\u001b[1;32m    787\u001b[0m     write_concern\u001b[39m=\u001b[39;49mwrite_concern,\n\u001b[1;32m    788\u001b[0m     codec_options\u001b[39m=\u001b[39;49m\u001b[39mself\u001b[39;49m\u001b[39m.\u001b[39;49m__write_response_codec_options,\n\u001b[1;32m    789\u001b[0m     session\u001b[39m=\u001b[39;49msession,\n\u001b[1;32m    790\u001b[0m     client\u001b[39m=\u001b[39;49m\u001b[39mself\u001b[39;49m\u001b[39m.\u001b[39;49m__database\u001b[39m.\u001b[39;49mclient,\n\u001b[1;32m    791\u001b[0m     retryable_write\u001b[39m=\u001b[39;49mretryable_write,\n\u001b[1;32m    792\u001b[0m )\u001b[39m.\u001b[39mcopy()\n\u001b[1;32m    793\u001b[0m _check_write_command_response(result)\n\u001b[1;32m    794\u001b[0m \u001b[39m# Add the updatedExisting field for compatibility.\u001b[39;00m\n",
      "File \u001b[0;32m~/Documents/XLNC_WORK/calibration-scripts/env/lib/python3.10/site-packages/pymongo/helpers.py:279\u001b[0m, in \u001b[0;36m_handle_reauth.<locals>.inner\u001b[0;34m(*args, **kwargs)\u001b[0m\n\u001b[1;32m    276\u001b[0m \u001b[39mfrom\u001b[39;00m \u001b[39mpymongo\u001b[39;00m\u001b[39m.\u001b[39;00m\u001b[39mpool\u001b[39;00m \u001b[39mimport\u001b[39;00m SocketInfo\n\u001b[1;32m    278\u001b[0m \u001b[39mtry\u001b[39;00m:\n\u001b[0;32m--> 279\u001b[0m     \u001b[39mreturn\u001b[39;00m func(\u001b[39m*\u001b[39;49margs, \u001b[39m*\u001b[39;49m\u001b[39m*\u001b[39;49mkwargs)\n\u001b[1;32m    280\u001b[0m \u001b[39mexcept\u001b[39;00m OperationFailure \u001b[39mas\u001b[39;00m exc:\n\u001b[1;32m    281\u001b[0m     \u001b[39mif\u001b[39;00m no_reauth:\n",
      "File \u001b[0;32m~/Documents/XLNC_WORK/calibration-scripts/env/lib/python3.10/site-packages/pymongo/pool.py:907\u001b[0m, in \u001b[0;36mSocketInfo.command\u001b[0;34m(self, dbname, spec, read_preference, codec_options, check, allowable_errors, read_concern, write_concern, parse_write_concern_error, collation, session, client, retryable_write, publish_events, user_fields, exhaust_allowed)\u001b[0m\n\u001b[1;32m    905\u001b[0m \u001b[39m# Catch socket.error, KeyboardInterrupt, etc. and close ourselves.\u001b[39;00m\n\u001b[1;32m    906\u001b[0m \u001b[39mexcept\u001b[39;00m \u001b[39mBaseException\u001b[39;00m \u001b[39mas\u001b[39;00m error:\n\u001b[0;32m--> 907\u001b[0m     \u001b[39mself\u001b[39;49m\u001b[39m.\u001b[39;49m_raise_connection_failure(error)\n",
      "File \u001b[0;32m~/Documents/XLNC_WORK/calibration-scripts/env/lib/python3.10/site-packages/pymongo/pool.py:879\u001b[0m, in \u001b[0;36mSocketInfo.command\u001b[0;34m(self, dbname, spec, read_preference, codec_options, check, allowable_errors, read_concern, write_concern, parse_write_concern_error, collation, session, client, retryable_write, publish_events, user_fields, exhaust_allowed)\u001b[0m\n\u001b[1;32m    877\u001b[0m     \u001b[39mself\u001b[39m\u001b[39m.\u001b[39m_raise_if_not_writable(unacknowledged)\n\u001b[1;32m    878\u001b[0m \u001b[39mtry\u001b[39;00m:\n\u001b[0;32m--> 879\u001b[0m     \u001b[39mreturn\u001b[39;00m command(\n\u001b[1;32m    880\u001b[0m         \u001b[39mself\u001b[39;49m,\n\u001b[1;32m    881\u001b[0m         dbname,\n\u001b[1;32m    882\u001b[0m         spec,\n\u001b[1;32m    883\u001b[0m         \u001b[39mself\u001b[39;49m\u001b[39m.\u001b[39;49mis_mongos,\n\u001b[1;32m    884\u001b[0m         read_preference,\n\u001b[1;32m    885\u001b[0m         codec_options,\n\u001b[1;32m    886\u001b[0m         session,\n\u001b[1;32m    887\u001b[0m         client,\n\u001b[1;32m    888\u001b[0m         check,\n\u001b[1;32m    889\u001b[0m         allowable_errors,\n\u001b[1;32m    890\u001b[0m         \u001b[39mself\u001b[39;49m\u001b[39m.\u001b[39;49maddress,\n\u001b[1;32m    891\u001b[0m         listeners,\n\u001b[1;32m    892\u001b[0m         \u001b[39mself\u001b[39;49m\u001b[39m.\u001b[39;49mmax_bson_size,\n\u001b[1;32m    893\u001b[0m         read_concern,\n\u001b[1;32m    894\u001b[0m         parse_write_concern_error\u001b[39m=\u001b[39;49mparse_write_concern_error,\n\u001b[1;32m    895\u001b[0m         collation\u001b[39m=\u001b[39;49mcollation,\n\u001b[1;32m    896\u001b[0m         compression_ctx\u001b[39m=\u001b[39;49m\u001b[39mself\u001b[39;49m\u001b[39m.\u001b[39;49mcompression_context,\n\u001b[1;32m    897\u001b[0m         use_op_msg\u001b[39m=\u001b[39;49m\u001b[39mself\u001b[39;49m\u001b[39m.\u001b[39;49mop_msg_enabled,\n\u001b[1;32m    898\u001b[0m         unacknowledged\u001b[39m=\u001b[39;49munacknowledged,\n\u001b[1;32m    899\u001b[0m         user_fields\u001b[39m=\u001b[39;49muser_fields,\n\u001b[1;32m    900\u001b[0m         exhaust_allowed\u001b[39m=\u001b[39;49mexhaust_allowed,\n\u001b[1;32m    901\u001b[0m         write_concern\u001b[39m=\u001b[39;49mwrite_concern,\n\u001b[1;32m    902\u001b[0m     )\n\u001b[1;32m    903\u001b[0m \u001b[39mexcept\u001b[39;00m (OperationFailure, NotPrimaryError):\n\u001b[1;32m    904\u001b[0m     \u001b[39mraise\u001b[39;00m\n",
      "File \u001b[0;32m~/Documents/XLNC_WORK/calibration-scripts/env/lib/python3.10/site-packages/pymongo/network.py:156\u001b[0m, in \u001b[0;36mcommand\u001b[0;34m(sock_info, dbname, spec, is_mongos, read_preference, codec_options, session, client, check, allowable_errors, address, listeners, max_bson_size, read_concern, parse_write_concern_error, collation, compression_ctx, use_op_msg, unacknowledged, user_fields, exhaust_allowed, write_concern)\u001b[0m\n\u001b[1;32m    154\u001b[0m     response_doc \u001b[39m=\u001b[39m {\u001b[39m\"\u001b[39m\u001b[39mok\u001b[39m\u001b[39m\"\u001b[39m: \u001b[39m1\u001b[39m}\n\u001b[1;32m    155\u001b[0m \u001b[39melse\u001b[39;00m:\n\u001b[0;32m--> 156\u001b[0m     reply \u001b[39m=\u001b[39m receive_message(sock_info, request_id)\n\u001b[1;32m    157\u001b[0m     sock_info\u001b[39m.\u001b[39mmore_to_come \u001b[39m=\u001b[39m reply\u001b[39m.\u001b[39mmore_to_come\n\u001b[1;32m    158\u001b[0m     unpacked_docs \u001b[39m=\u001b[39m reply\u001b[39m.\u001b[39munpack_response(\n\u001b[1;32m    159\u001b[0m         codec_options\u001b[39m=\u001b[39mcodec_options, user_fields\u001b[39m=\u001b[39muser_fields\n\u001b[1;32m    160\u001b[0m     )\n",
      "File \u001b[0;32m~/Documents/XLNC_WORK/calibration-scripts/env/lib/python3.10/site-packages/pymongo/network.py:217\u001b[0m, in \u001b[0;36mreceive_message\u001b[0;34m(sock_info, request_id, max_message_size)\u001b[0m\n\u001b[1;32m    214\u001b[0m         deadline \u001b[39m=\u001b[39m \u001b[39mNone\u001b[39;00m\n\u001b[1;32m    215\u001b[0m \u001b[39m# Ignore the response's request id.\u001b[39;00m\n\u001b[1;32m    216\u001b[0m length, _, response_to, op_code \u001b[39m=\u001b[39m _UNPACK_HEADER(\n\u001b[0;32m--> 217\u001b[0m     _receive_data_on_socket(sock_info, \u001b[39m16\u001b[39;49m, deadline)\n\u001b[1;32m    218\u001b[0m )\n\u001b[1;32m    219\u001b[0m \u001b[39m# No request_id for exhaust cursor \"getMore\".\u001b[39;00m\n\u001b[1;32m    220\u001b[0m \u001b[39mif\u001b[39;00m request_id \u001b[39mis\u001b[39;00m \u001b[39mnot\u001b[39;00m \u001b[39mNone\u001b[39;00m:\n",
      "File \u001b[0;32m~/Documents/XLNC_WORK/calibration-scripts/env/lib/python3.10/site-packages/pymongo/network.py:299\u001b[0m, in \u001b[0;36m_receive_data_on_socket\u001b[0;34m(sock_info, length, deadline)\u001b[0m\n\u001b[1;32m    297\u001b[0m     \u001b[39mif\u001b[39;00m _csot\u001b[39m.\u001b[39mget_timeout():\n\u001b[1;32m    298\u001b[0m         sock_info\u001b[39m.\u001b[39mset_socket_timeout(\u001b[39mmax\u001b[39m(deadline \u001b[39m-\u001b[39m time\u001b[39m.\u001b[39mmonotonic(), \u001b[39m0\u001b[39m))\n\u001b[0;32m--> 299\u001b[0m     chunk_length \u001b[39m=\u001b[39m sock_info\u001b[39m.\u001b[39;49msock\u001b[39m.\u001b[39;49mrecv_into(mv[bytes_read:])\n\u001b[1;32m    300\u001b[0m \u001b[39mexcept\u001b[39;00m BLOCKING_IO_ERRORS:\n\u001b[1;32m    301\u001b[0m     \u001b[39mraise\u001b[39;00m socket\u001b[39m.\u001b[39mtimeout(\u001b[39m\"\u001b[39m\u001b[39mtimed out\u001b[39m\u001b[39m\"\u001b[39m)\n",
      "File \u001b[0;32m/Library/Frameworks/Python.framework/Versions/3.10/lib/python3.10/ssl.py:1273\u001b[0m, in \u001b[0;36mSSLSocket.recv_into\u001b[0;34m(self, buffer, nbytes, flags)\u001b[0m\n\u001b[1;32m   1269\u001b[0m     \u001b[39mif\u001b[39;00m flags \u001b[39m!=\u001b[39m \u001b[39m0\u001b[39m:\n\u001b[1;32m   1270\u001b[0m         \u001b[39mraise\u001b[39;00m \u001b[39mValueError\u001b[39;00m(\n\u001b[1;32m   1271\u001b[0m           \u001b[39m\"\u001b[39m\u001b[39mnon-zero flags not allowed in calls to recv_into() on \u001b[39m\u001b[39m%s\u001b[39;00m\u001b[39m\"\u001b[39m \u001b[39m%\u001b[39m\n\u001b[1;32m   1272\u001b[0m           \u001b[39mself\u001b[39m\u001b[39m.\u001b[39m\u001b[39m__class__\u001b[39m)\n\u001b[0;32m-> 1273\u001b[0m     \u001b[39mreturn\u001b[39;00m \u001b[39mself\u001b[39;49m\u001b[39m.\u001b[39;49mread(nbytes, buffer)\n\u001b[1;32m   1274\u001b[0m \u001b[39melse\u001b[39;00m:\n\u001b[1;32m   1275\u001b[0m     \u001b[39mreturn\u001b[39;00m \u001b[39msuper\u001b[39m()\u001b[39m.\u001b[39mrecv_into(buffer, nbytes, flags)\n",
      "File \u001b[0;32m/Library/Frameworks/Python.framework/Versions/3.10/lib/python3.10/ssl.py:1129\u001b[0m, in \u001b[0;36mSSLSocket.read\u001b[0;34m(self, len, buffer)\u001b[0m\n\u001b[1;32m   1127\u001b[0m \u001b[39mtry\u001b[39;00m:\n\u001b[1;32m   1128\u001b[0m     \u001b[39mif\u001b[39;00m buffer \u001b[39mis\u001b[39;00m \u001b[39mnot\u001b[39;00m \u001b[39mNone\u001b[39;00m:\n\u001b[0;32m-> 1129\u001b[0m         \u001b[39mreturn\u001b[39;00m \u001b[39mself\u001b[39;49m\u001b[39m.\u001b[39;49m_sslobj\u001b[39m.\u001b[39;49mread(\u001b[39mlen\u001b[39;49m, buffer)\n\u001b[1;32m   1130\u001b[0m     \u001b[39melse\u001b[39;00m:\n\u001b[1;32m   1131\u001b[0m         \u001b[39mreturn\u001b[39;00m \u001b[39mself\u001b[39m\u001b[39m.\u001b[39m_sslobj\u001b[39m.\u001b[39mread(\u001b[39mlen\u001b[39m)\n",
      "\u001b[0;31mKeyboardInterrupt\u001b[0m: "
     ]
    }
   ],
   "source": [
    "# Remove duplicates\n",
    "import tqdm\n",
    "all_queries = list(coll.find({}))\n",
    "for q in tqdm.tqdm(all_queries):\n",
    "    q_ind = f\"p{q['prefix_index']}o{q['prompt_index']}s{q['sample_index']}\"\n",
    "    q_set.add(q_ind)\n",
    "    coll.update_one({'_id': q['_id']}, {'$set': {'query_index': q_ind}})"
   ]
  },
  {
   "cell_type": "code",
   "execution_count": 47,
   "metadata": {},
   "outputs": [
    {
     "data": {
      "text/plain": [
       "<pymongo.results.UpdateResult at 0x11ec153f0>"
      ]
     },
     "execution_count": 47,
     "metadata": {},
     "output_type": "execute_result"
    }
   ],
   "source": [
    "# reset hanging ratings\n",
    "coll_name = 'queries/contrast/openchat/openchat_v3.1'\n",
    "db[coll_name].update_many({'rating':0}, {'$set':{'rating':-1}})\n",
    "\n",
    "# get average latency\n",
    "# latencies = list(db[coll_name].find({\"latency\":{\"$gt\":0}}))\n",
    "# latencies = pd.DataFrame(latencies)\n",
    "# latencies['latency'].hist(bins=100)\n",
    "# print(f\"Average latency: {sum(latencies)/len(latencies)}\")"
   ]
  },
  {
   "cell_type": "code",
   "execution_count": null,
   "metadata": {},
   "outputs": [],
   "source": [
    "db[coll_name].ensureIndex({{'prompt_index', } : 1}, {unique : true, dropDups : true})"
   ]
  },
  {
   "cell_type": "code",
   "execution_count": 15,
   "metadata": {},
   "outputs": [
    {
     "data": {
      "text/plain": [
       "<Axes: >"
      ]
     },
     "execution_count": 15,
     "metadata": {},
     "output_type": "execute_result"
    },
    {
     "data": {
      "image/png": "[encoded data removed]",
      "text/plain": [
       "<Figure size 640x480 with 1 Axes>"
      ]
     },
     "metadata": {},
     "output_type": "display_data"
    }
   ],
   "source": [
    "latencies['rating'].hist(bins=100)"
   ]
  },
  {
   "cell_type": "code",
   "execution_count": 16,
   "metadata": {},
   "outputs": [
    {
     "data": {
      "text/html": [
       "<div>\n",
       "<style scoped>\n",
       "    .dataframe tbody tr th:only-of-type {\n",
       "        vertical-align: middle;\n",
       "    }\n",
       "\n",
       "    .dataframe tbody tr th {\n",
       "        vertical-align: top;\n",
       "    }\n",
       "\n",
       "    .dataframe thead th {\n",
       "        text-align: right;\n",
       "    }\n",
       "</style>\n",
       "<table border=\"1\" class=\"dataframe\">\n",
       "  <thead>\n",
       "    <tr style=\"text-align: right;\">\n",
       "      <th></th>\n",
       "      <th>_id</th>\n",
       "      <th>prefix_index</th>\n",
       "      <th>prompt_index</th>\n",
       "      <th>sample_index</th>\n",
       "      <th>dimension</th>\n",
       "      <th>latency</th>\n",
       "      <th>num_tries</th>\n",
       "      <th>rating</th>\n",
       "    </tr>\n",
       "  </thead>\n",
       "  <tbody>\n",
       "    <tr>\n",
       "      <th>10874</th>\n",
       "      <td>64d9cf962f56523c0bb3beb0</td>\n",
       "      <td>0</td>\n",
       "      <td>18</td>\n",
       "      <td>242</td>\n",
       "      <td>contrast</td>\n",
       "      <td>0.401591</td>\n",
       "      <td>1</td>\n",
       "      <td>9</td>\n",
       "    </tr>\n",
       "    <tr>\n",
       "      <th>10875</th>\n",
       "      <td>64d9cf962f56523c0bb3beb1</td>\n",
       "      <td>0</td>\n",
       "      <td>18</td>\n",
       "      <td>243</td>\n",
       "      <td>contrast</td>\n",
       "      <td>0.401604</td>\n",
       "      <td>1</td>\n",
       "      <td>6</td>\n",
       "    </tr>\n",
       "    <tr>\n",
       "      <th>10876</th>\n",
       "      <td>64d9cf962f56523c0bb3beb2</td>\n",
       "      <td>0</td>\n",
       "      <td>18</td>\n",
       "      <td>244</td>\n",
       "      <td>contrast</td>\n",
       "      <td>0.401615</td>\n",
       "      <td>1</td>\n",
       "      <td>9</td>\n",
       "    </tr>\n",
       "    <tr>\n",
       "      <th>10877</th>\n",
       "      <td>64d9cf962f56523c0bb3beb3</td>\n",
       "      <td>0</td>\n",
       "      <td>18</td>\n",
       "      <td>245</td>\n",
       "      <td>contrast</td>\n",
       "      <td>0.401624</td>\n",
       "      <td>1</td>\n",
       "      <td>8</td>\n",
       "    </tr>\n",
       "    <tr>\n",
       "      <th>10878</th>\n",
       "      <td>64d9cf962f56523c0bb3beb4</td>\n",
       "      <td>0</td>\n",
       "      <td>18</td>\n",
       "      <td>246</td>\n",
       "      <td>contrast</td>\n",
       "      <td>0.401632</td>\n",
       "      <td>1</td>\n",
       "      <td>7</td>\n",
       "    </tr>\n",
       "    <tr>\n",
       "      <th>...</th>\n",
       "      <td>...</td>\n",
       "      <td>...</td>\n",
       "      <td>...</td>\n",
       "      <td>...</td>\n",
       "      <td>...</td>\n",
       "      <td>...</td>\n",
       "      <td>...</td>\n",
       "      <td>...</td>\n",
       "    </tr>\n",
       "    <tr>\n",
       "      <th>54317</th>\n",
       "      <td>64d9d04b2f56523c0bb49cd4</td>\n",
       "      <td>0</td>\n",
       "      <td>114</td>\n",
       "      <td>374</td>\n",
       "      <td>contrast</td>\n",
       "      <td>0.564590</td>\n",
       "      <td>1</td>\n",
       "      <td>9</td>\n",
       "    </tr>\n",
       "    <tr>\n",
       "      <th>54318</th>\n",
       "      <td>64d9d04b2f56523c0bb49cd6</td>\n",
       "      <td>0</td>\n",
       "      <td>114</td>\n",
       "      <td>376</td>\n",
       "      <td>contrast</td>\n",
       "      <td>0.564600</td>\n",
       "      <td>1</td>\n",
       "      <td>9</td>\n",
       "    </tr>\n",
       "    <tr>\n",
       "      <th>54319</th>\n",
       "      <td>64d9d04b2f56523c0bb49cd8</td>\n",
       "      <td>0</td>\n",
       "      <td>114</td>\n",
       "      <td>378</td>\n",
       "      <td>contrast</td>\n",
       "      <td>0.564609</td>\n",
       "      <td>1</td>\n",
       "      <td>9</td>\n",
       "    </tr>\n",
       "    <tr>\n",
       "      <th>54320</th>\n",
       "      <td>64d9d04b2f56523c0bb49cda</td>\n",
       "      <td>0</td>\n",
       "      <td>114</td>\n",
       "      <td>380</td>\n",
       "      <td>contrast</td>\n",
       "      <td>0.564618</td>\n",
       "      <td>1</td>\n",
       "      <td>9</td>\n",
       "    </tr>\n",
       "    <tr>\n",
       "      <th>54321</th>\n",
       "      <td>64d9d04b2f56523c0bb49cdb</td>\n",
       "      <td>0</td>\n",
       "      <td>114</td>\n",
       "      <td>381</td>\n",
       "      <td>contrast</td>\n",
       "      <td>0.564625</td>\n",
       "      <td>1</td>\n",
       "      <td>9</td>\n",
       "    </tr>\n",
       "  </tbody>\n",
       "</table>\n",
       "<p>24424 rows × 8 columns</p>\n",
       "</div>"
      ],
      "text/plain": [
       "                            _id  prefix_index  prompt_index  sample_index  \\\n",
       "10874  64d9cf962f56523c0bb3beb0             0            18           242   \n",
       "10875  64d9cf962f56523c0bb3beb1             0            18           243   \n",
       "10876  64d9cf962f56523c0bb3beb2             0            18           244   \n",
       "10877  64d9cf962f56523c0bb3beb3             0            18           245   \n",
       "10878  64d9cf962f56523c0bb3beb4             0            18           246   \n",
       "...                         ...           ...           ...           ...   \n",
       "54317  64d9d04b2f56523c0bb49cd4             0           114           374   \n",
       "54318  64d9d04b2f56523c0bb49cd6             0           114           376   \n",
       "54319  64d9d04b2f56523c0bb49cd8             0           114           378   \n",
       "54320  64d9d04b2f56523c0bb49cda             0           114           380   \n",
       "54321  64d9d04b2f56523c0bb49cdb             0           114           381   \n",
       "\n",
       "      dimension   latency  num_tries  rating  \n",
       "10874  contrast  0.401591          1       9  \n",
       "10875  contrast  0.401604          1       6  \n",
       "10876  contrast  0.401615          1       9  \n",
       "10877  contrast  0.401624          1       8  \n",
       "10878  contrast  0.401632          1       7  \n",
       "...         ...       ...        ...     ...  \n",
       "54317  contrast  0.564590          1       9  \n",
       "54318  contrast  0.564600          1       9  \n",
       "54319  contrast  0.564609          1       9  \n",
       "54320  contrast  0.564618          1       9  \n",
       "54321  contrast  0.564625          1       9  \n",
       "\n",
       "[24424 rows x 8 columns]"
      ]
     },
     "execution_count": 16,
     "metadata": {},
     "output_type": "execute_result"
    }
   ],
   "source": [
    "latencies[latencies['latency'] > 0.4]"
   ]
  },
  {
   "cell_type": "code",
   "execution_count": null,
   "metadata": {},
   "outputs": [],
   "source": [
    "len(latencies[latencies['rating']>0])"
   ]
  },
  {
   "cell_type": "code",
   "execution_count": null,
   "metadata": {},
   "outputs": [],
   "source": [
    "latencies['prompt_index'].max()"
   ]
  },
  {
   "cell_type": "code",
   "execution_count": null,
   "metadata": {},
   "outputs": [],
   "source": [
    "# import tqdm\n",
    "# # display dist. of prompt lengths\n",
    "# dim = 'contrast'\n",
    "# prefixes = {prefix['prefix_index']:prefix for prefix in list(db['prefixes'].find({}))}\n",
    "# prompts = {prompt['prompt_index']:prompt for prompt in list(db[f'core_prompts/{dim}'].find({}))}\n",
    "# samples = {sample['sample_index']:sample for sample in list(db[f'samples/{dim}'].find({}))}\n",
    "# tokens_dist = []\n",
    "# prefix = max(prefixes.values(), key=lambda x : len(x['prefix']))\n",
    "# for prompt in tqdm.tqdm(prompts):\n",
    "#     for sample in samples:\n",
    "#         t = count_tokens(prefix['prefix'] + prompts[prompt]['combined_prompt'] + samples[sample]['sample'])\n",
    "#         tokens_dist.append(t)\n",
    "pd.Series(tokens_dist).hist(bins=100)"
   ]
  },
  {
   "cell_type": "code",
   "execution_count": null,
   "metadata": {},
   "outputs": [],
   "source": [
    "db[coll_name].find_and_update_many()"
   ]
  },
  {
   "cell_type": "code",
   "execution_count": 33,
   "metadata": {},
   "outputs": [],
   "source": [
    "import requests\n",
    "import json\n",
    "headers = {\n",
    "        'Content-Type': 'application/json',\n",
    "    }\n",
    "data = json.dumps({'n_queries': 1000, 'llm_name': 'contrast'})\n",
    "response = requests.post('http://localhost:8080/calibrations/get-batch', headers=headers, data=data)"
   ]
  },
  {
   "cell_type": "code",
   "execution_count": 39,
   "metadata": {},
   "outputs": [
    {
     "data": {
      "text/plain": [
       "{'queries': [], 'collection_name': 'queries/contrast/contrast'}"
      ]
     },
     "execution_count": 39,
     "metadata": {},
     "output_type": "execute_result"
    }
   ],
   "source": [
    "response.json()"
   ]
  },
  {
   "cell_type": "code",
   "execution_count": null,
   "metadata": {},
   "outputs": [],
   "source": []
  }
 ],
 "metadata": {
  "kernelspec": {
   "display_name": "env",
   "language": "python",
   "name": "python3"
  },
  "language_info": {
   "codemirror_mode": {
    "name": "ipython",
    "version": 3
   },
   "file_extension": ".py",
   "mimetype": "text/x-python",
   "name": "python",
   "nbconvert_exporter": "python",
   "pygments_lexer": "ipython3",
   "version": "3.10.0"
  },
  "orig_nbformat": 4
 },
 "nbformat": 4,
 "nbformat_minor": 2
}
